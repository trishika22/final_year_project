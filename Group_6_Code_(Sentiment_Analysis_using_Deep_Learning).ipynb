{
  "cells": [
    {
      "cell_type": "markdown",
      "metadata": {
        "id": "view-in-github",
        "colab_type": "text"
      },
      "source": [
        "<a href=\"https://colab.research.google.com/github/trishika22/final_year_project/blob/main/Group_6_Code_(Sentiment_Analysis_using_Deep_Learning).ipynb\" target=\"_parent\"><img src=\"https://colab.research.google.com/assets/colab-badge.svg\" alt=\"Open In Colab\"/></a>"
      ]
    },
    {
      "cell_type": "markdown",
      "metadata": {
        "id": "mgzX6p4e35j0"
      },
      "source": [
        "# **Importing Libraries**"
      ]
    },
    {
      "cell_type": "code",
      "execution_count": null,
      "metadata": {
        "id": "M0dedDLV0fuM"
      },
      "outputs": [],
      "source": [
        "import pandas as pd\n",
        "import numpy as np\n",
        "from tensorflow.python.keras.preprocessing.text import Tokenizer\n",
        "from keras.preprocessing import sequence\n",
        "from tensorflow.python.keras.preprocessing.sequence import pad_sequences\n",
        "from keras.models import Sequential\n",
        "from keras.layers import Dense, Embedding, LSTM, GRU, Flatten, Conv1D, MaxPooling1D, Dropout, BatchNormalization,GlobalMaxPooling1D\n",
        "from keras.layers.embeddings import Embedding\n",
        "from sklearn.model_selection import train_test_split\n",
        "import matplotlib.pyplot as plt\n",
        "from sklearn.preprocessing import LabelEncoder\n",
        "from tensorflow.keras.utils import to_categorical\n",
        "import time\n",
        "import datetime\n",
        "import seaborn as sns\n",
        "from tensorflow.keras.optimizers import Adam"
      ]
    },
    {
      "cell_type": "markdown",
      "metadata": {
        "id": "HhzTmmJR7cNR"
      },
      "source": [
        "# **Loading Data**"
      ]
    },
    {
      "cell_type": "code",
      "execution_count": null,
      "metadata": {
        "colab": {
          "base_uri": "https://localhost:8080/",
          "height": 233,
          "resources": {
            "http://localhost:8080/nbextensions/google.colab/files.js": {
              "data": "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",
              "headers": [
                [
                  "content-type",
                  "application/javascript"
                ]
              ],
              "ok": true,
              "status": 200,
              "status_text": ""
            }
          }
        },
        "id": "lHvu2Yh72PUi",
        "outputId": "84f78ae8-9640-4af5-bf35-dcc41d1ea406"
      },
      "outputs": [
        {
          "output_type": "display_data",
          "data": {
            "text/html": [
              "\n",
              "     <input type=\"file\" id=\"files-d5e88e90-de31-4beb-862c-91d19212fd8c\" name=\"files[]\" multiple disabled\n",
              "        style=\"border:none\" />\n",
              "     <output id=\"result-d5e88e90-de31-4beb-862c-91d19212fd8c\">\n",
              "      Upload widget is only available when the cell has been executed in the\n",
              "      current browser session. Please rerun this cell to enable.\n",
              "      </output>\n",
              "      <script src=\"/nbextensions/google.colab/files.js\"></script> "
            ],
            "text/plain": [
              "<IPython.core.display.HTML object>"
            ]
          },
          "metadata": {}
        },
        {
          "output_type": "stream",
          "name": "stdout",
          "text": [
            "Saving srinjoy_textblob.csv to srinjoy_textblob.csv\n"
          ]
        },
        {
          "output_type": "display_data",
          "data": {
            "text/html": [
              "\n",
              "     <input type=\"file\" id=\"files-7adb3e6f-5c76-4b73-a136-982ce8869eb9\" name=\"files[]\" multiple disabled\n",
              "        style=\"border:none\" />\n",
              "     <output id=\"result-7adb3e6f-5c76-4b73-a136-982ce8869eb9\">\n",
              "      Upload widget is only available when the cell has been executed in the\n",
              "      current browser session. Please rerun this cell to enable.\n",
              "      </output>\n",
              "      <script src=\"/nbextensions/google.colab/files.js\"></script> "
            ],
            "text/plain": [
              "<IPython.core.display.HTML object>"
            ]
          },
          "metadata": {}
        },
        {
          "output_type": "stream",
          "name": "stdout",
          "text": [
            "Saving model_attention.pkl to model_attention (1).pkl\n",
            "Saving model_cnn.pkl to model_cnn.pkl\n",
            "Saving model_gru.pkl to model_gru.pkl\n",
            "Saving model_lstm.pkl to model_lstm.pkl\n"
          ]
        }
      ],
      "source": [
        "from google.colab import files\n",
        "\n",
        "data = files.upload()\n",
        "data1 = files.upload()"
      ]
    },
    {
      "cell_type": "code",
      "execution_count": null,
      "metadata": {
        "id": "53BgmDzf45Nx",
        "colab": {
          "base_uri": "https://localhost:8080/"
        },
        "outputId": "1a6526aa-03fd-45b3-b8b2-bcd22b9a6732"
      },
      "outputs": [
        {
          "output_type": "stream",
          "name": "stderr",
          "text": [
            "/usr/local/lib/python3.7/dist-packages/ipykernel_launcher.py:14: FutureWarning: The default value of regex will change from True to False in a future version.\n",
            "  \n",
            "/usr/local/lib/python3.7/dist-packages/ipykernel_launcher.py:15: FutureWarning: The default value of regex will change from True to False in a future version.\n",
            "  from ipykernel import kernelapp as app\n"
          ]
        }
      ],
      "source": [
        "import io\n",
        "df = pd.read_csv(io.BytesIO(data['textblob.csv']))\n",
        "df['og_text']=df['text']\n",
        "df['text'] = df['text'].astype(str)\n",
        "df['text'] = df['text'].str.replace('\\d+', '')\n",
        "df['text'] = df['text'].str.replace('[+-]?[0-9]+\\.[0-9]+', '')"
      ]
    },
    {
      "cell_type": "code",
      "execution_count": null,
      "metadata": {
        "colab": {
          "base_uri": "https://localhost:8080/",
          "height": 581
        },
        "id": "2vonwHzE3Dpb",
        "outputId": "11452feb-05fa-4d44-9197-e4bc7766b03c"
      },
      "outputs": [
        {
          "output_type": "execute_result",
          "data": {
            "text/html": [
              "\n",
              "  <div id=\"df-74159f6a-1561-4519-a2e1-8c32857035af\">\n",
              "    <div class=\"colab-df-container\">\n",
              "      <div>\n",
              "<style scoped>\n",
              "    .dataframe tbody tr th:only-of-type {\n",
              "        vertical-align: middle;\n",
              "    }\n",
              "\n",
              "    .dataframe tbody tr th {\n",
              "        vertical-align: top;\n",
              "    }\n",
              "\n",
              "    .dataframe thead th {\n",
              "        text-align: right;\n",
              "    }\n",
              "</style>\n",
              "<table border=\"1\" class=\"dataframe\">\n",
              "  <thead>\n",
              "    <tr style=\"text-align: right;\">\n",
              "      <th></th>\n",
              "      <th>text</th>\n",
              "      <th>sentiment</th>\n",
              "      <th>date</th>\n",
              "      <th>polarity</th>\n",
              "      <th>og_text</th>\n",
              "    </tr>\n",
              "  </thead>\n",
              "  <tbody>\n",
              "    <tr>\n",
              "      <th>0</th>\n",
              "      <td>nifty next  amazing set of stock which can eve...</td>\n",
              "      <td>Positive</td>\n",
              "      <td>01-01-2021 05:11</td>\n",
              "      <td>0.366667</td>\n",
              "      <td>nifty next 50 amazing set of stock which can e...</td>\n",
              "    </tr>\n",
              "    <tr>\n",
              "      <th>1</th>\n",
              "      <td>USER decodingmumbai happynewyear happynewyear ...</td>\n",
              "      <td>Positive</td>\n",
              "      <td>01-01-2021 05:10</td>\n",
              "      <td>0.000000</td>\n",
              "      <td>USER decodingmumbai happynewyear2021 happynewy...</td>\n",
              "    </tr>\n",
              "    <tr>\n",
              "      <th>2</th>\n",
              "      <td>USER guess   range contestalert nifty contest ...</td>\n",
              "      <td>Positive</td>\n",
              "      <td>01-01-2021 04:38</td>\n",
              "      <td>0.000000</td>\n",
              "      <td>USER guess 7890 8440 range contestalert nifty5...</td>\n",
              "    </tr>\n",
              "    <tr>\n",
              "      <th>3</th>\n",
              "      <td>USER cool after the nifty  the   is my favouri...</td>\n",
              "      <td>Positive</td>\n",
              "      <td>01-01-2021 03:29</td>\n",
              "      <td>0.425000</td>\n",
              "      <td>USER cool after the nifty 50 the 10 18 is my f...</td>\n",
              "    </tr>\n",
              "    <tr>\n",
              "      <th>4</th>\n",
              "      <td>new year nifty strategy very low risk assuring...</td>\n",
              "      <td>Positive</td>\n",
              "      <td>01-01-2021 02:13</td>\n",
              "      <td>0.045455</td>\n",
              "      <td>new year nifty strategy very low risk assuring...</td>\n",
              "    </tr>\n",
              "    <tr>\n",
              "      <th>5</th>\n",
              "      <td>unhidden future wealth creator itc usl bse dcb...</td>\n",
              "      <td>Positive</td>\n",
              "      <td>01-01-2021 01:59</td>\n",
              "      <td>0.000000</td>\n",
              "      <td>unhidden future wealth creator itc usl bse dcb...</td>\n",
              "    </tr>\n",
              "    <tr>\n",
              "      <th>6</th>\n",
              "      <td>may the stock market rally continue in  nifty</td>\n",
              "      <td>Positive</td>\n",
              "      <td>01-01-2021 00:53</td>\n",
              "      <td>0.000000</td>\n",
              "      <td>may the stock market rally continue in 2021 ni...</td>\n",
              "    </tr>\n",
              "    <tr>\n",
              "      <th>7</th>\n",
              "      <td>tech view nifty face selling at   show sign fa...</td>\n",
              "      <td>Positive</td>\n",
              "      <td>01-01-2021 00:50</td>\n",
              "      <td>0.000000</td>\n",
              "      <td>tech view nifty50 face selling at 14 00 show s...</td>\n",
              "    </tr>\n",
              "    <tr>\n",
              "      <th>8</th>\n",
              "      <td>happy new year to all from USER team happynewy...</td>\n",
              "      <td>Positive</td>\n",
              "      <td>01-01-2021 00:30</td>\n",
              "      <td>0.468182</td>\n",
              "      <td>happy new year to all from USER team happynewy...</td>\n",
              "    </tr>\n",
              "    <tr>\n",
              "      <th>9</th>\n",
              "      <td>banknifty daily myview negativedivergence nift...</td>\n",
              "      <td>Positive</td>\n",
              "      <td>01-01-2021 00:26</td>\n",
              "      <td>0.000000</td>\n",
              "      <td>banknifty daily myview negativedivergence nift...</td>\n",
              "    </tr>\n",
              "  </tbody>\n",
              "</table>\n",
              "</div>\n",
              "      <button class=\"colab-df-convert\" onclick=\"convertToInteractive('df-74159f6a-1561-4519-a2e1-8c32857035af')\"\n",
              "              title=\"Convert this dataframe to an interactive table.\"\n",
              "              style=\"display:none;\">\n",
              "        \n",
              "  <svg xmlns=\"http://www.w3.org/2000/svg\" height=\"24px\"viewBox=\"0 0 24 24\"\n",
              "       width=\"24px\">\n",
              "    <path d=\"M0 0h24v24H0V0z\" fill=\"none\"/>\n",
              "    <path d=\"M18.56 5.44l.94 2.06.94-2.06 2.06-.94-2.06-.94-.94-2.06-.94 2.06-2.06.94zm-11 1L8.5 8.5l.94-2.06 2.06-.94-2.06-.94L8.5 2.5l-.94 2.06-2.06.94zm10 10l.94 2.06.94-2.06 2.06-.94-2.06-.94-.94-2.06-.94 2.06-2.06.94z\"/><path d=\"M17.41 7.96l-1.37-1.37c-.4-.4-.92-.59-1.43-.59-.52 0-1.04.2-1.43.59L10.3 9.45l-7.72 7.72c-.78.78-.78 2.05 0 2.83L4 21.41c.39.39.9.59 1.41.59.51 0 1.02-.2 1.41-.59l7.78-7.78 2.81-2.81c.8-.78.8-2.07 0-2.86zM5.41 20L4 18.59l7.72-7.72 1.47 1.35L5.41 20z\"/>\n",
              "  </svg>\n",
              "      </button>\n",
              "      \n",
              "  <style>\n",
              "    .colab-df-container {\n",
              "      display:flex;\n",
              "      flex-wrap:wrap;\n",
              "      gap: 12px;\n",
              "    }\n",
              "\n",
              "    .colab-df-convert {\n",
              "      background-color: #E8F0FE;\n",
              "      border: none;\n",
              "      border-radius: 50%;\n",
              "      cursor: pointer;\n",
              "      display: none;\n",
              "      fill: #1967D2;\n",
              "      height: 32px;\n",
              "      padding: 0 0 0 0;\n",
              "      width: 32px;\n",
              "    }\n",
              "\n",
              "    .colab-df-convert:hover {\n",
              "      background-color: #E2EBFA;\n",
              "      box-shadow: 0px 1px 2px rgba(60, 64, 67, 0.3), 0px 1px 3px 1px rgba(60, 64, 67, 0.15);\n",
              "      fill: #174EA6;\n",
              "    }\n",
              "\n",
              "    [theme=dark] .colab-df-convert {\n",
              "      background-color: #3B4455;\n",
              "      fill: #D2E3FC;\n",
              "    }\n",
              "\n",
              "    [theme=dark] .colab-df-convert:hover {\n",
              "      background-color: #434B5C;\n",
              "      box-shadow: 0px 1px 3px 1px rgba(0, 0, 0, 0.15);\n",
              "      filter: drop-shadow(0px 1px 2px rgba(0, 0, 0, 0.3));\n",
              "      fill: #FFFFFF;\n",
              "    }\n",
              "  </style>\n",
              "\n",
              "      <script>\n",
              "        const buttonEl =\n",
              "          document.querySelector('#df-74159f6a-1561-4519-a2e1-8c32857035af button.colab-df-convert');\n",
              "        buttonEl.style.display =\n",
              "          google.colab.kernel.accessAllowed ? 'block' : 'none';\n",
              "\n",
              "        async function convertToInteractive(key) {\n",
              "          const element = document.querySelector('#df-74159f6a-1561-4519-a2e1-8c32857035af');\n",
              "          const dataTable =\n",
              "            await google.colab.kernel.invokeFunction('convertToInteractive',\n",
              "                                                     [key], {});\n",
              "          if (!dataTable) return;\n",
              "\n",
              "          const docLinkHtml = 'Like what you see? Visit the ' +\n",
              "            '<a target=\"_blank\" href=https://colab.research.google.com/notebooks/data_table.ipynb>data table notebook</a>'\n",
              "            + ' to learn more about interactive tables.';\n",
              "          element.innerHTML = '';\n",
              "          dataTable['output_type'] = 'display_data';\n",
              "          await google.colab.output.renderOutput(dataTable, element);\n",
              "          const docLink = document.createElement('div');\n",
              "          docLink.innerHTML = docLinkHtml;\n",
              "          element.appendChild(docLink);\n",
              "        }\n",
              "      </script>\n",
              "    </div>\n",
              "  </div>\n",
              "  "
            ],
            "text/plain": [
              "                                                text  ...                                            og_text\n",
              "0  nifty next  amazing set of stock which can eve...  ...  nifty next 50 amazing set of stock which can e...\n",
              "1  USER decodingmumbai happynewyear happynewyear ...  ...  USER decodingmumbai happynewyear2021 happynewy...\n",
              "2  USER guess   range contestalert nifty contest ...  ...  USER guess 7890 8440 range contestalert nifty5...\n",
              "3  USER cool after the nifty  the   is my favouri...  ...  USER cool after the nifty 50 the 10 18 is my f...\n",
              "4  new year nifty strategy very low risk assuring...  ...  new year nifty strategy very low risk assuring...\n",
              "5  unhidden future wealth creator itc usl bse dcb...  ...  unhidden future wealth creator itc usl bse dcb...\n",
              "6     may the stock market rally continue in  nifty   ...  may the stock market rally continue in 2021 ni...\n",
              "7  tech view nifty face selling at   show sign fa...  ...  tech view nifty50 face selling at 14 00 show s...\n",
              "8  happy new year to all from USER team happynewy...  ...  happy new year to all from USER team happynewy...\n",
              "9  banknifty daily myview negativedivergence nift...  ...  banknifty daily myview negativedivergence nift...\n",
              "\n",
              "[10 rows x 5 columns]"
            ]
          },
          "metadata": {},
          "execution_count": 5
        }
      ],
      "source": [
        "df.head(10)"
      ]
    },
    {
      "cell_type": "code",
      "execution_count": null,
      "metadata": {
        "id": "YV4xGnMqgWvR"
      },
      "outputs": [],
      "source": [
        "def cal(x):\n",
        "  if x == 0:\n",
        "    return 0\n",
        "  elif x > 0:\n",
        "    return 1\n",
        "  else:\n",
        "    return -1\n",
        "df['sentiment'] = [cal(x) for x in df['polarity']]"
      ]
    },
    {
      "cell_type": "code",
      "execution_count": null,
      "metadata": {
        "colab": {
          "base_uri": "https://localhost:8080/"
        },
        "id": "L9ER30iGgXFU",
        "outputId": "3e132686-f7a4-4800-eda1-f3effdcc3ba9"
      },
      "outputs": [
        {
          "output_type": "execute_result",
          "data": {
            "text/plain": [
              " 0    71710\n",
              " 1    50161\n",
              "-1    18501\n",
              "Name: sentiment, dtype: int64"
            ]
          },
          "metadata": {},
          "execution_count": 7
        }
      ],
      "source": [
        "df['sentiment'].value_counts()"
      ]
    },
    {
      "cell_type": "code",
      "execution_count": null,
      "metadata": {
        "id": "9nXflhJp2yJ0"
      },
      "outputs": [],
      "source": [
        "df = df.sample(df.shape[0])"
      ]
    },
    {
      "cell_type": "markdown",
      "metadata": {
        "id": "Bi_6_6UE9bbx"
      },
      "source": [
        "# **Visualizing the data**"
      ]
    },
    {
      "cell_type": "code",
      "execution_count": null,
      "metadata": {
        "colab": {
          "base_uri": "https://localhost:8080/",
          "height": 367
        },
        "id": "WYt5w-1OgXKi",
        "outputId": "20395f3a-c3da-42a9-d03e-3f9e8a64699e"
      },
      "outputs": [
        {
          "output_type": "stream",
          "name": "stderr",
          "text": [
            "/usr/local/lib/python3.7/dist-packages/seaborn/_decorators.py:43: FutureWarning: Pass the following variable as a keyword arg: x. From version 0.12, the only valid positional argument will be `data`, and passing other arguments without an explicit keyword will result in an error or misinterpretation.\n",
            "  FutureWarning\n"
          ]
        },
        {
          "output_type": "execute_result",
          "data": {
            "text/plain": [
              "[]"
            ]
          },
          "metadata": {},
          "execution_count": 9
        },
        {
          "output_type": "display_data",
          "data": {
            "image/png": "[encoded data removed]",
            "text/plain": [
              "<Figure size 432x288 with 1 Axes>"
            ]
          },
          "metadata": {
            "needs_background": "light"
          }
        }
      ],
      "source": [
        "col = \"sentiment\"\n",
        "xlabel = \"Sentiment\"\n",
        "ylabel = \"Count\"\n",
        "sns.countplot(df[col])\n",
        "plt.title(\"Review Sentiment Count\")\n",
        "plt.xlabel(xlabel)\n",
        "plt.ylabel(ylabel)\n",
        "plt.xticks(rotation=90)\n",
        "plt.plot()"
      ]
    },
    {
      "cell_type": "markdown",
      "metadata": {
        "id": "d2G_-mDWAeGc"
      },
      "source": [
        "# **Preparing Data**"
      ]
    },
    {
      "cell_type": "code",
      "execution_count": null,
      "metadata": {
        "colab": {
          "base_uri": "https://localhost:8080/"
        },
        "id": "4jVoCyh1gXOZ",
        "outputId": "03f0688e-ff6e-4f56-c1d4-a186add4092e"
      },
      "outputs": [
        {
          "output_type": "execute_result",
          "data": {
            "text/plain": [
              "array([[0., 1., 0.],\n",
              "       [0., 1., 0.],\n",
              "       [0., 0., 1.],\n",
              "       ...,\n",
              "       [1., 0., 0.],\n",
              "       [0., 0., 1.],\n",
              "       [0., 0., 1.]], dtype=float32)"
            ]
          },
          "metadata": {},
          "execution_count": 10
        }
      ],
      "source": [
        "X=df['text'] #df['post_content']\n",
        "Y=df['sentiment']\n",
        "label_encoder = LabelEncoder()\n",
        "Y = label_encoder.fit_transform(Y)\n",
        "Y = to_categorical(Y)\n",
        "Y"
      ]
    },
    {
      "cell_type": "code",
      "execution_count": null,
      "metadata": {
        "colab": {
          "base_uri": "https://localhost:8080/"
        },
        "id": "ZEsTAINAgXR1",
        "outputId": "e0d79dc5-8a28-4787-cd02-a2156515ecc2"
      },
      "outputs": [
        {
          "output_type": "execute_result",
          "data": {
            "text/plain": [
              "(440, 39142)"
            ]
          },
          "metadata": {},
          "execution_count": 11
        }
      ],
      "source": [
        "X_train, X_test, y_train, y_test= train_test_split(X,Y,test_size=0.15)\n",
        "max_words = len(set(\" \".join(i for i in X_train).split()))\n",
        "max_len = X_train.apply(lambda x : len(str(x))).max()\n",
        "max_len,max_words"
      ]
    },
    {
      "cell_type": "code",
      "execution_count": null,
      "metadata": {
        "id": "7-TlS3P6gXVW"
      },
      "outputs": [],
      "source": [
        "tokenizer = Tokenizer(num_words=max_words)\n",
        "tokenizer.fit_on_texts(X_train)\n",
        "X_train_seq = tokenizer.texts_to_sequences(X_train)\n",
        "X_train_seq = sequence.pad_sequences(X_train_seq, maxlen=max_len)"
      ]
    },
    {
      "cell_type": "markdown",
      "metadata": {
        "id": "G_J7ciTNCsLd"
      },
      "source": [
        "# **LSTM**"
      ]
    },
    {
      "cell_type": "code",
      "execution_count": null,
      "metadata": {
        "id": "ZLo9mNp3gXal"
      },
      "outputs": [],
      "source": [
        "def get_LSTM_model(num_class=2):\n",
        "  model = Sequential()\n",
        "  model.add(Embedding(max_words, 100, input_length=max_len))\n",
        "  model.add(LSTM(256))\n",
        "\n",
        "  model.add(Dropout(0.5))\n",
        "  model.add(BatchNormalization())\n",
        "  model.add(Dropout(0.5))\n",
        "\n",
        "  model.add(Dense(512, activation='relu'))\n",
        "\n",
        "  model.add(Dropout(0.5))\n",
        "  model.add(BatchNormalization())\n",
        "  model.add(Dropout(0.5))\n",
        "  if num_class>2:\n",
        "        model.add(Dense(num_class, activation='softmax'))\n",
        "  else:\n",
        "        model.add(Dense(1, activation='sigmoid'))\n",
        "\n",
        "  model.summary()\n",
        "\n",
        "  return model"
      ]
    },
    {
      "cell_type": "code",
      "execution_count": null,
      "metadata": {
        "colab": {
          "base_uri": "https://localhost:8080/"
        },
        "id": "eI_YtQgIgXdu",
        "outputId": "3ebe4dea-0767-4dc1-cad0-3892c6c63ab9"
      },
      "outputs": [
        {
          "output_type": "stream",
          "name": "stdout",
          "text": [
            "Model: \"sequential\"\n",
            "_________________________________________________________________\n",
            " Layer (type)                Output Shape              Param #   \n",
            "=================================================================\n",
            " embedding (Embedding)       (None, 411, 100)          3899400   \n",
            "                                                                 \n",
            " lstm (LSTM)                 (None, 256)               365568    \n",
            "                                                                 \n",
            " dropout (Dropout)           (None, 256)               0         \n",
            "                                                                 \n",
            " batch_normalization (BatchN  (None, 256)              1024      \n",
            " ormalization)                                                   \n",
            "                                                                 \n",
            " dropout_1 (Dropout)         (None, 256)               0         \n",
            "                                                                 \n",
            " dense (Dense)               (None, 512)               131584    \n",
            "                                                                 \n",
            " dropout_2 (Dropout)         (None, 512)               0         \n",
            "                                                                 \n",
            " batch_normalization_1 (Batc  (None, 512)              2048      \n",
            " hNormalization)                                                 \n",
            "                                                                 \n",
            " dropout_3 (Dropout)         (None, 512)               0         \n",
            "                                                                 \n",
            " dense_1 (Dense)             (None, 3)                 1539      \n",
            "                                                                 \n",
            "=================================================================\n",
            "Total params: 4,401,163\n",
            "Trainable params: 4,399,627\n",
            "Non-trainable params: 1,536\n",
            "_________________________________________________________________\n"
          ]
        }
      ],
      "source": [
        "num_class = 3\n",
        "model1 = get_LSTM_model(num_class=num_class)"
      ]
    },
    {
      "cell_type": "code",
      "execution_count": null,
      "metadata": {
        "colab": {
          "base_uri": "https://localhost:8080/"
        },
        "id": "xN_iwO74Eavv",
        "outputId": "b5583972-5819-4d28-a5f7-94502374aa88"
      },
      "outputs": [
        {
          "output_type": "stream",
          "name": "stdout",
          "text": [
            "Model: \"sequential\"\n",
            "_________________________________________________________________\n",
            " Layer (type)                Output Shape              Param #   \n",
            "=================================================================\n",
            " embedding (Embedding)       (None, 411, 100)          3899400   \n",
            "                                                                 \n",
            " lstm (LSTM)                 (None, 256)               365568    \n",
            "                                                                 \n",
            " dropout (Dropout)           (None, 256)               0         \n",
            "                                                                 \n",
            " batch_normalization (BatchN  (None, 256)              1024      \n",
            " ormalization)                                                   \n",
            "                                                                 \n",
            " dropout_1 (Dropout)         (None, 256)               0         \n",
            "                                                                 \n",
            " dense (Dense)               (None, 512)               131584    \n",
            "                                                                 \n",
            " dropout_2 (Dropout)         (None, 512)               0         \n",
            "                                                                 \n",
            " batch_normalization_1 (Batc  (None, 512)              2048      \n",
            " hNormalization)                                                 \n",
            "                                                                 \n",
            " dropout_3 (Dropout)         (None, 512)               0         \n",
            "                                                                 \n",
            " dense_1 (Dense)             (None, 3)                 1539      \n",
            "                                                                 \n",
            "=================================================================\n",
            "Total params: 4,401,163\n",
            "Trainable params: 4,399,627\n",
            "Non-trainable params: 1,536\n",
            "_________________________________________________________________\n",
            "None\n"
          ]
        }
      ],
      "source": [
        "model1.compile(loss='categorical_crossentropy', optimizer=Adam(0.001), metrics=['accuracy'])\n",
        "print(model1.summary())"
      ]
    },
    {
      "cell_type": "code",
      "execution_count": null,
      "metadata": {
        "colab": {
          "base_uri": "https://localhost:8080/"
        },
        "id": "qnD3TvlLEbNX",
        "outputId": "2e7b4b0e-f0df-4ff2-ba2d-5023ff896539"
      },
      "outputs": [
        {
          "output_type": "stream",
          "name": "stdout",
          "text": [
            "Starting...\n",
            "\n",
            "Trainning Model ...\n",
            "\n",
            "Epoch 1/5\n",
            "746/746 [==============================] - 132s 168ms/step - loss: 0.4763 - accuracy: 0.8238 - val_loss: 0.1431 - val_accuracy: 0.9594\n",
            "Epoch 2/5\n",
            "746/746 [==============================] - 126s 169ms/step - loss: 0.1110 - accuracy: 0.9691 - val_loss: 0.0931 - val_accuracy: 0.9733\n",
            "Epoch 3/5\n",
            "746/746 [==============================] - 126s 168ms/step - loss: 0.0711 - accuracy: 0.9813 - val_loss: 0.1031 - val_accuracy: 0.9706\n",
            "Epoch 4/5\n",
            "746/746 [==============================] - 125s 168ms/step - loss: 0.0560 - accuracy: 0.9853 - val_loss: 0.0913 - val_accuracy: 0.9761\n",
            "Epoch 5/5\n",
            "746/746 [==============================] - 125s 168ms/step - loss: 0.0415 - accuracy: 0.9886 - val_loss: 0.1069 - val_accuracy: 0.9738\n",
            "\n",
            "Elapsed Time: 00:11:25\n",
            "Completed Model Trainning\n"
          ]
        }
      ],
      "source": [
        "verbose = 1\n",
        "epochs = 5\n",
        "batch_size = 128\n",
        "validation_split = 0.2\n",
        "\n",
        "\n",
        "print(\"Starting...\\n\")\n",
        "start_time = time.time()\n",
        "\n",
        "print(\"Trainning Model ...\\n\")\n",
        "history1 = model1.fit(\n",
        "    X_train_seq,\n",
        "    y_train,\n",
        "    batch_size=batch_size,\n",
        "    epochs=epochs,\n",
        "    verbose=verbose,\n",
        "    validation_split=validation_split\n",
        "    )\n",
        "\n",
        "elapsed_time = time.time() - start_time\n",
        "elapsed_time = time.strftime(\"%H:%M:%S\", time.gmtime(elapsed_time))\n",
        "\n",
        "print(\"\\nElapsed Time: \" + elapsed_time)\n",
        "print(\"Completed Model Trainning\")"
      ]
    },
    {
      "cell_type": "code",
      "execution_count": null,
      "metadata": {
        "colab": {
          "base_uri": "https://localhost:8080/"
        },
        "id": "P1xDbRLxE4GP",
        "outputId": "5244001e-4fcf-4234-a1ff-c0e0cd4b3e0e"
      },
      "outputs": [
        {
          "output_type": "stream",
          "name": "stdout",
          "text": [
            "Testing...\n",
            "165/165 [==============================] - 9s 53ms/step - loss: 0.1048 - accuracy: 0.9746\n",
            "Test score: 0.10475167632102966\n",
            "Test accuracy: 0.9746390581130981\n",
            "Accuracy of LSTM Model: 97.46%\n"
          ]
        }
      ],
      "source": [
        "test_X_seq = tokenizer.texts_to_sequences(X_test)\n",
        "test_X_seq = sequence.pad_sequences(test_X_seq, maxlen=max_len)\n",
        "print('Testing...')\n",
        "score, acc = model1.evaluate(test_X_seq, y_test, batch_size=128)\n",
        "\n",
        "print('Test score:', score)\n",
        "print('Test accuracy:', acc)\n",
        "\n",
        "print(\"Accuracy of LSTM Model: {0:.2%}\".format(acc))"
      ]
    },
    {
      "cell_type": "markdown",
      "metadata": {
        "id": "JXJFo3Cr3AUH"
      },
      "source": [
        "# **CNN**"
      ]
    },
    {
      "cell_type": "code",
      "execution_count": null,
      "metadata": {
        "id": "YSovquxc3Dxn"
      },
      "outputs": [],
      "source": [
        "def get_CNN_model(num_class=2):\n",
        "    model = Sequential()\n",
        "\n",
        "    model.add(Embedding(max_words, 100, input_length=max_len))\n",
        "\n",
        "    model.add(Conv1D(1024, 3, padding='valid', activation='relu', strides=1))\n",
        "    model.add(GlobalMaxPooling1D())\n",
        "\n",
        "\n",
        "    model.add(Dropout(0.5))\n",
        "    model.add(BatchNormalization())\n",
        "    model.add(Dropout(0.5))\n",
        "\n",
        "    model.add(Dense(2048, activation='relu'))\n",
        "\n",
        "    model.add(Dropout(0.5))\n",
        "    model.add(BatchNormalization())\n",
        "    model.add(Dropout(0.5))\n",
        "\n",
        "    if num_class>2:\n",
        "        model.add(Dense(num_class, activation='softmax'))\n",
        "    else:\n",
        "        model.add(Dense(1, activation='sigmoid'))\n",
        "\n",
        "    model.summary()\n",
        "    return model"
      ]
    },
    {
      "cell_type": "code",
      "execution_count": null,
      "metadata": {
        "colab": {
          "base_uri": "https://localhost:8080/"
        },
        "id": "_-GAqk6s3Mv1",
        "outputId": "a9051a0a-0675-44fd-86bb-329b79ebeb13"
      },
      "outputs": [
        {
          "output_type": "stream",
          "name": "stdout",
          "text": [
            "Model: \"sequential_1\"\n",
            "_________________________________________________________________\n",
            " Layer (type)                Output Shape              Param #   \n",
            "=================================================================\n",
            " embedding_1 (Embedding)     (None, 411, 100)          3899400   \n",
            "                                                                 \n",
            " conv1d (Conv1D)             (None, 409, 1024)         308224    \n",
            "                                                                 \n",
            " global_max_pooling1d (Globa  (None, 1024)             0         \n",
            " lMaxPooling1D)                                                  \n",
            "                                                                 \n",
            " dropout_4 (Dropout)         (None, 1024)              0         \n",
            "                                                                 \n",
            " batch_normalization_2 (Batc  (None, 1024)             4096      \n",
            " hNormalization)                                                 \n",
            "                                                                 \n",
            " dropout_5 (Dropout)         (None, 1024)              0         \n",
            "                                                                 \n",
            " dense_2 (Dense)             (None, 2048)              2099200   \n",
            "                                                                 \n",
            " dropout_6 (Dropout)         (None, 2048)              0         \n",
            "                                                                 \n",
            " batch_normalization_3 (Batc  (None, 2048)             8192      \n",
            " hNormalization)                                                 \n",
            "                                                                 \n",
            " dropout_7 (Dropout)         (None, 2048)              0         \n",
            "                                                                 \n",
            " dense_3 (Dense)             (None, 3)                 6147      \n",
            "                                                                 \n",
            "=================================================================\n",
            "Total params: 6,325,259\n",
            "Trainable params: 6,319,115\n",
            "Non-trainable params: 6,144\n",
            "_________________________________________________________________\n"
          ]
        }
      ],
      "source": [
        "num_class = 3\n",
        "model2 = get_CNN_model(num_class=num_class)"
      ]
    },
    {
      "cell_type": "code",
      "execution_count": null,
      "metadata": {
        "colab": {
          "base_uri": "https://localhost:8080/"
        },
        "id": "aewLrDWW3M7V",
        "outputId": "9a9d5dce-a18a-4549-9690-173158025ced"
      },
      "outputs": [
        {
          "output_type": "stream",
          "name": "stdout",
          "text": [
            "Model: \"sequential_1\"\n",
            "_________________________________________________________________\n",
            " Layer (type)                Output Shape              Param #   \n",
            "=================================================================\n",
            " embedding_1 (Embedding)     (None, 411, 100)          3899400   \n",
            "                                                                 \n",
            " conv1d (Conv1D)             (None, 409, 1024)         308224    \n",
            "                                                                 \n",
            " global_max_pooling1d (Globa  (None, 1024)             0         \n",
            " lMaxPooling1D)                                                  \n",
            "                                                                 \n",
            " dropout_4 (Dropout)         (None, 1024)              0         \n",
            "                                                                 \n",
            " batch_normalization_2 (Batc  (None, 1024)             4096      \n",
            " hNormalization)                                                 \n",
            "                                                                 \n",
            " dropout_5 (Dropout)         (None, 1024)              0         \n",
            "                                                                 \n",
            " dense_2 (Dense)             (None, 2048)              2099200   \n",
            "                                                                 \n",
            " dropout_6 (Dropout)         (None, 2048)              0         \n",
            "                                                                 \n",
            " batch_normalization_3 (Batc  (None, 2048)             8192      \n",
            " hNormalization)                                                 \n",
            "                                                                 \n",
            " dropout_7 (Dropout)         (None, 2048)              0         \n",
            "                                                                 \n",
            " dense_3 (Dense)             (None, 3)                 6147      \n",
            "                                                                 \n",
            "=================================================================\n",
            "Total params: 6,325,259\n",
            "Trainable params: 6,319,115\n",
            "Non-trainable params: 6,144\n",
            "_________________________________________________________________\n",
            "None\n"
          ]
        }
      ],
      "source": [
        "model2.compile(loss='categorical_crossentropy', optimizer=Adam(0.001), metrics=['accuracy'])\n",
        "print(model2.summary())"
      ]
    },
    {
      "cell_type": "code",
      "execution_count": null,
      "metadata": {
        "colab": {
          "base_uri": "https://localhost:8080/"
        },
        "id": "Y48tl4yE3M-c",
        "outputId": "4db8545d-a6a3-421b-f8c5-45c6f486c9ad"
      },
      "outputs": [
        {
          "output_type": "stream",
          "name": "stdout",
          "text": [
            "Starting...\n",
            "\n",
            "Trainning Model ...\n",
            "\n",
            "Epoch 1/5\n",
            "746/746 [==============================] - 102s 127ms/step - loss: 0.3847 - accuracy: 0.8797 - val_loss: 0.0949 - val_accuracy: 0.9707\n",
            "Epoch 2/5\n",
            "746/746 [==============================] - 94s 126ms/step - loss: 0.0921 - accuracy: 0.9721 - val_loss: 0.0754 - val_accuracy: 0.9746\n",
            "Epoch 3/5\n",
            "746/746 [==============================] - 94s 126ms/step - loss: 0.0671 - accuracy: 0.9783 - val_loss: 0.0707 - val_accuracy: 0.9779\n",
            "Epoch 4/5\n",
            "746/746 [==============================] - 94s 126ms/step - loss: 0.0548 - accuracy: 0.9825 - val_loss: 0.0695 - val_accuracy: 0.9798\n",
            "Epoch 5/5\n",
            "746/746 [==============================] - 94s 126ms/step - loss: 0.0478 - accuracy: 0.9842 - val_loss: 0.0790 - val_accuracy: 0.9801\n",
            "\n",
            "Elapsed Time: 00:08:23\n",
            "Completed Model Trainning\n"
          ]
        }
      ],
      "source": [
        "verbose = 1\n",
        "epochs = 5\n",
        "batch_size = 128\n",
        "validation_split = 0.2\n",
        "\n",
        "\n",
        "print(\"Starting...\\n\")\n",
        "start_time = time.time()\n",
        "\n",
        "print(\"Trainning Model ...\\n\")\n",
        "history2 = model2.fit(\n",
        "    X_train_seq,\n",
        "    y_train,\n",
        "    batch_size=batch_size,\n",
        "    epochs=epochs,\n",
        "    verbose=verbose,\n",
        "    validation_split=validation_split\n",
        "    )\n",
        "\n",
        "elapsed_time = time.time() - start_time\n",
        "elapsed_time = time.strftime(\"%H:%M:%S\", time.gmtime(elapsed_time))\n",
        "\n",
        "print(\"\\nElapsed Time: \" + elapsed_time)\n",
        "print(\"Completed Model Trainning\")"
      ]
    },
    {
      "cell_type": "code",
      "execution_count": null,
      "metadata": {
        "colab": {
          "base_uri": "https://localhost:8080/"
        },
        "id": "ao9aoIGf3NDU",
        "outputId": "5d5de0aa-590b-410b-b7f7-ba86b089f551"
      },
      "outputs": [
        {
          "output_type": "stream",
          "name": "stdout",
          "text": [
            "Testing...\n",
            "165/165 [==============================] - 6s 35ms/step - loss: 0.0806 - accuracy: 0.9795\n",
            "Test score: 0.08056744933128357\n",
            "Test accuracy: 0.9794833064079285\n",
            "Accuracy of CNN Model: 97.95%\n"
          ]
        }
      ],
      "source": [
        "test_X_seq = tokenizer.texts_to_sequences(X_test)\n",
        "test_X_seq = sequence.pad_sequences(test_X_seq, maxlen=max_len)\n",
        "print('Testing...')\n",
        "score, acc = model2.evaluate(test_X_seq, y_test, batch_size=128)\n",
        "\n",
        "print('Test score:', score)\n",
        "print('Test accuracy:', acc)\n",
        "\n",
        "print(\"Accuracy of CNN Model: {0:.2%}\".format(acc))"
      ]
    },
    {
      "cell_type": "markdown",
      "metadata": {
        "id": "9_r66ogk3gHx"
      },
      "source": [
        "# **GRU**"
      ]
    },
    {
      "cell_type": "code",
      "execution_count": null,
      "metadata": {
        "id": "eiCDg5_x3NHX"
      },
      "outputs": [],
      "source": [
        "def get_GRU_model(num_class=2):\n",
        "  model = Sequential()\n",
        "  model.add(Embedding(max_words, 100, input_length=max_len))\n",
        "  model.add(GRU(256))\n",
        "\n",
        "  model.add(Dropout(0.5))\n",
        "  model.add(BatchNormalization())\n",
        "  model.add(Dropout(0.5))\n",
        "\n",
        "  model.add(Dense(512, activation='relu'))\n",
        "\n",
        "  model.add(Dropout(0.5))\n",
        "  model.add(BatchNormalization())\n",
        "  model.add(Dropout(0.5))\n",
        "  if num_class>2:\n",
        "        model.add(Dense(num_class, activation='softmax'))\n",
        "  else:\n",
        "        model.add(Dense(1, activation='sigmoid'))\n",
        "\n",
        "  model.summary()\n",
        "\n",
        "  return model"
      ]
    },
    {
      "cell_type": "code",
      "execution_count": null,
      "metadata": {
        "colab": {
          "base_uri": "https://localhost:8080/"
        },
        "id": "WLkkmyuh3NoK",
        "outputId": "0471c126-2c36-49c8-e0cf-39fc03b308cc"
      },
      "outputs": [
        {
          "output_type": "stream",
          "name": "stdout",
          "text": [
            "Model: \"sequential_2\"\n",
            "_________________________________________________________________\n",
            " Layer (type)                Output Shape              Param #   \n",
            "=================================================================\n",
            " embedding_2 (Embedding)     (None, 411, 100)          3899400   \n",
            "                                                                 \n",
            " gru (GRU)                   (None, 256)               274944    \n",
            "                                                                 \n",
            " dropout_8 (Dropout)         (None, 256)               0         \n",
            "                                                                 \n",
            " batch_normalization_4 (Batc  (None, 256)              1024      \n",
            " hNormalization)                                                 \n",
            "                                                                 \n",
            " dropout_9 (Dropout)         (None, 256)               0         \n",
            "                                                                 \n",
            " dense_4 (Dense)             (None, 512)               131584    \n",
            "                                                                 \n",
            " dropout_10 (Dropout)        (None, 512)               0         \n",
            "                                                                 \n",
            " batch_normalization_5 (Batc  (None, 512)              2048      \n",
            " hNormalization)                                                 \n",
            "                                                                 \n",
            " dropout_11 (Dropout)        (None, 512)               0         \n",
            "                                                                 \n",
            " dense_5 (Dense)             (None, 3)                 1539      \n",
            "                                                                 \n",
            "=================================================================\n",
            "Total params: 4,310,539\n",
            "Trainable params: 4,309,003\n",
            "Non-trainable params: 1,536\n",
            "_________________________________________________________________\n"
          ]
        }
      ],
      "source": [
        "num_class = 3\n",
        "model3 = get_GRU_model(num_class=num_class)"
      ]
    },
    {
      "cell_type": "code",
      "execution_count": null,
      "metadata": {
        "colab": {
          "base_uri": "https://localhost:8080/"
        },
        "id": "J4e8zN4E3Nzm",
        "outputId": "ff1fe4d5-c44c-41f8-8967-963e8a7650b5"
      },
      "outputs": [
        {
          "output_type": "stream",
          "name": "stdout",
          "text": [
            "Model: \"sequential_2\"\n",
            "_________________________________________________________________\n",
            " Layer (type)                Output Shape              Param #   \n",
            "=================================================================\n",
            " embedding_2 (Embedding)     (None, 411, 100)          3899400   \n",
            "                                                                 \n",
            " gru (GRU)                   (None, 256)               274944    \n",
            "                                                                 \n",
            " dropout_8 (Dropout)         (None, 256)               0         \n",
            "                                                                 \n",
            " batch_normalization_4 (Batc  (None, 256)              1024      \n",
            " hNormalization)                                                 \n",
            "                                                                 \n",
            " dropout_9 (Dropout)         (None, 256)               0         \n",
            "                                                                 \n",
            " dense_4 (Dense)             (None, 512)               131584    \n",
            "                                                                 \n",
            " dropout_10 (Dropout)        (None, 512)               0         \n",
            "                                                                 \n",
            " batch_normalization_5 (Batc  (None, 512)              2048      \n",
            " hNormalization)                                                 \n",
            "                                                                 \n",
            " dropout_11 (Dropout)        (None, 512)               0         \n",
            "                                                                 \n",
            " dense_5 (Dense)             (None, 3)                 1539      \n",
            "                                                                 \n",
            "=================================================================\n",
            "Total params: 4,310,539\n",
            "Trainable params: 4,309,003\n",
            "Non-trainable params: 1,536\n",
            "_________________________________________________________________\n",
            "None\n"
          ]
        }
      ],
      "source": [
        "model3.compile(loss='categorical_crossentropy', optimizer=Adam(0.001), metrics=['accuracy'])\n",
        "print(model3.summary())"
      ]
    },
    {
      "cell_type": "code",
      "execution_count": null,
      "metadata": {
        "colab": {
          "base_uri": "https://localhost:8080/"
        },
        "id": "oc1VqOW04SPC",
        "outputId": "ab44e150-fe35-4d2e-e006-eb4556093b30"
      },
      "outputs": [
        {
          "output_type": "stream",
          "name": "stdout",
          "text": [
            "Starting...\n",
            "\n",
            "Trainning Model ...\n",
            "\n",
            "Epoch 1/5\n",
            "746/746 [==============================] - 113s 148ms/step - loss: 0.5072 - accuracy: 0.8131 - val_loss: 0.1995 - val_accuracy: 0.9319\n",
            "Epoch 2/5\n",
            "746/746 [==============================] - 109s 146ms/step - loss: 0.1576 - accuracy: 0.9531 - val_loss: 0.1236 - val_accuracy: 0.9632\n",
            "Epoch 3/5\n",
            "746/746 [==============================] - 109s 146ms/step - loss: 0.0837 - accuracy: 0.9764 - val_loss: 0.0863 - val_accuracy: 0.9755\n",
            "Epoch 4/5\n",
            "746/746 [==============================] - 109s 146ms/step - loss: 0.0564 - accuracy: 0.9847 - val_loss: 0.0938 - val_accuracy: 0.9723\n",
            "Epoch 5/5\n",
            "746/746 [==============================] - 110s 147ms/step - loss: 0.0411 - accuracy: 0.9885 - val_loss: 0.0882 - val_accuracy: 0.9788\n",
            "\n",
            "Elapsed Time: 00:09:24\n",
            "Completed Model Trainning\n"
          ]
        }
      ],
      "source": [
        "verbose = 1\n",
        "epochs = 5\n",
        "batch_size = 128\n",
        "validation_split = 0.2\n",
        "\n",
        "\n",
        "print(\"Starting...\\n\")\n",
        "start_time = time.time()\n",
        "\n",
        "print(\"Trainning Model ...\\n\")\n",
        "history3 = model3.fit(\n",
        "    X_train_seq,\n",
        "    y_train,\n",
        "    batch_size=batch_size,\n",
        "    epochs=epochs,\n",
        "    verbose=verbose,\n",
        "    validation_split=validation_split\n",
        "    )\n",
        "\n",
        "elapsed_time = time.time() - start_time\n",
        "elapsed_time = time.strftime(\"%H:%M:%S\", time.gmtime(elapsed_time))\n",
        "\n",
        "print(\"\\nElapsed Time: \" + elapsed_time)\n",
        "print(\"Completed Model Trainning\")"
      ]
    },
    {
      "cell_type": "code",
      "execution_count": null,
      "metadata": {
        "colab": {
          "base_uri": "https://localhost:8080/"
        },
        "id": "APU6qn3c4SdX",
        "outputId": "0d5e91b1-981e-4c14-8af9-dec7359ef1f4"
      },
      "outputs": [
        {
          "output_type": "stream",
          "name": "stdout",
          "text": [
            "Testing...\n",
            "165/165 [==============================] - 7s 44ms/step - loss: 0.0906 - accuracy: 0.9788\n",
            "Test score: 0.09061134606599808\n",
            "Test accuracy: 0.978818416595459\n",
            "Accuracy of GRU Model: 97.88%\n"
          ]
        }
      ],
      "source": [
        "test_X_seq = tokenizer.texts_to_sequences(X_test)\n",
        "test_X_seq = sequence.pad_sequences(test_X_seq, maxlen=max_len)\n",
        "print('Testing...')\n",
        "score, acc = model3.evaluate(test_X_seq, y_test, batch_size=128)\n",
        "\n",
        "print('Test score:', score)\n",
        "print('Test accuracy:', acc)\n",
        "\n",
        "print(\"Accuracy of GRU Model: {0:.2%}\".format(acc))"
      ]
    },
    {
      "cell_type": "markdown",
      "metadata": {
        "id": "fzRoHEhC42MT"
      },
      "source": [
        "# **Attention LSTM**"
      ]
    },
    {
      "cell_type": "code",
      "execution_count": null,
      "metadata": {
        "id": "Oqc26TIm4SnN"
      },
      "outputs": [],
      "source": [
        " import tensorflow as tf\n",
        "from tensorflow.keras.layers import LSTM, Dense, Embedding, Input, Layer\n",
        "from tensorflow.keras.models import Model\n",
        "\n",
        "\n",
        "def load_model(model_path):\n",
        "    return tf.keras.models.load_model(model_path)\n",
        "\n",
        "\n",
        "def get_model(model_type, *args, **kwargs):\n",
        "    if model_type == \"lstm\":\n",
        "        return _lstm_based_model(*args, **kwargs)\n",
        "    if model_type == \"attention\":\n",
        "        return _attention_based_model(*args, **kwargs)\n",
        "    raise NotImplementedError\n",
        "\n",
        "\n",
        "def _lstm_based_model(maxlen, vocab_size, emb_size, hidden_size=32, mask_zero=True):\n",
        "    inp = Input(shape=[maxlen])\n",
        "    emb = Embedding(vocab_size, emb_size, mask_zero=mask_zero,)\n",
        "    x = emb(inp)\n",
        "    x = LSTM(hidden_size)(x)\n",
        "    out = Dense(1, activation=\"sigmoid\")(x)\n",
        "    model = Model(inputs=inp, outputs=out)\n",
        "    return model\n",
        "\n",
        "\n",
        "def _attention_based_model(\n",
        "    maxlen,\n",
        "    vocab_size,\n",
        "    emb_size,\n",
        "    hidden_size=32,\n",
        "    attention_hs=16,\n",
        "    mask_zero=True,\n",
        "    return_attn_weights=False,\n",
        "):\n",
        "    inp = Input(shape=[maxlen])\n",
        "    emb = Embedding(vocab_size, emb_size, mask_zero=mask_zero,)\n",
        "    x = emb(inp)\n",
        "    x, hs, cs = LSTM(hidden_size, return_sequences=True, return_state=True)(x)\n",
        "    x, weights = BahdanauAttention(attention_hs)(hs, x)\n",
        "    out = Dense(3, activation=\"sigmoid\")(x)\n",
        "    model = Model(inputs=inp, outputs=out)\n",
        "    if return_attn_weights:\n",
        "        model_attention = Model(inputs=inp, outputs=weights)\n",
        "        return model, model_attention\n",
        "    return model\n",
        "\n",
        "\n",
        "class BahdanauAttention(Layer):\n",
        "    def __init__(self, units):\n",
        "        super(BahdanauAttention, self).__init__()\n",
        "        self.W1 = tf.keras.layers.Dense(units)\n",
        "        self.W2 = tf.keras.layers.Dense(units)\n",
        "        self.V = tf.keras.layers.Dense(1)\n",
        "\n",
        "    # TODO: Add masking\n",
        "    def call(self, query, values):\n",
        "        # query : [batch_size, hidden_size]\n",
        "        # values: [batch_size, maxlen, hidden_size]\n",
        "\n",
        "        # (batch_size, 1, hidden_size)\n",
        "        hidden_with_time_axis = tf.expand_dims(query, 1)\n",
        "\n",
        "        # (batch_size, maxlen, units) + (batch_size, 1, units) = (batch_size, maxlen, units)\n",
        "        score = self.W1(values) + self.W2(hidden_with_time_axis)\n",
        "\n",
        "        # (batch_size, maxlen, 1)\n",
        "        score = self.V(tf.nn.tanh(score))\n",
        "\n",
        "        # attention_weights shape == (batch_size, maxlen, 1)\n",
        "        attention_weights = tf.nn.softmax(score, axis=1)\n",
        "\n",
        "        # context_vector shape after sum == (batch_size, hidden_size)\n",
        "        context_vector = attention_weights * values\n",
        "        context_vector = tf.reduce_sum(context_vector, axis=1)\n",
        "\n",
        "        return context_vector, attention_weights\n"
      ]
    },
    {
      "cell_type": "code",
      "execution_count": null,
      "metadata": {
        "colab": {
          "base_uri": "https://localhost:8080/"
        },
        "id": "TpyfTS5T4Sze",
        "outputId": "67e6a0fd-40fc-4196-8901-d5c7924a12b6"
      },
      "outputs": [
        {
          "output_type": "stream",
          "name": "stdout",
          "text": [
            "Model: \"model\"\n",
            "________________________________________________________________________________________________________________________________________________________________________________________________________\n",
            " Layer (type)                                                     Output Shape                                Param #                 Connected to                                                      \n",
            "========================================================================================================================================================================================================\n",
            " input_1 (InputLayer)                                             [(None, 411)]                               0                       []                                                                \n",
            "                                                                                                                                                                                                        \n",
            " embedding_3 (Embedding)                                          (None, 411, 32)                             1247808                 ['input_1[0][0]']                                                 \n",
            "                                                                                                                                                                                                        \n",
            " lstm_1 (LSTM)                                                    [(None, 411, 32),                           8320                    ['embedding_3[0][0]']                                             \n",
            "                                                                   (None, 32),                                                                                                                          \n",
            "                                                                   (None, 32)]                                                                                                                          \n",
            "                                                                                                                                                                                                        \n",
            " bahdanau_attention (BahdanauAttention)                           ((None, 32),                                1073                    ['lstm_1[0][1]',                                                  \n",
            "                                                                   (None, 411, 1))                                                     'lstm_1[0][0]']                                                  \n",
            "                                                                                                                                                                                                        \n",
            " dense_9 (Dense)                                                  (None, 3)                                   99                      ['bahdanau_attention[0][0]']                                      \n",
            "                                                                                                                                                                                                        \n",
            "========================================================================================================================================================================================================\n",
            "Total params: 1,257,300\n",
            "Trainable params: 1,257,300\n",
            "Non-trainable params: 0\n",
            "________________________________________________________________________________________________________________________________________________________________________________________________________\n"
          ]
        }
      ],
      "source": [
        "verbose = 1\n",
        "epochs = 5\n",
        "emb_size = 32\n",
        "batch_size = 128\n",
        "validation_split = 0.2\n",
        "\n",
        "model, model_attention = get_model(\n",
        "    \"attention\",\n",
        "    max_len,\n",
        "    max_words,\n",
        "    emb_size,\n",
        "    attention_hs=16,\n",
        "    return_attn_weights=True,\n",
        ")\n",
        "model.summary(line_length=200)\n",
        "model.compile(loss=\"binary_crossentropy\", optimizer=\"adam\", metrics=[\"accuracy\"])"
      ]
    },
    {
      "cell_type": "code",
      "execution_count": null,
      "metadata": {
        "colab": {
          "base_uri": "https://localhost:8080/"
        },
        "id": "DYbKbSyBAd-3",
        "outputId": "5c53ffc0-2e0a-48d3-8f18-9f6d6e318cfc"
      },
      "outputs": [
        {
          "output_type": "stream",
          "name": "stdout",
          "text": [
            "Starting...\n",
            "\n",
            "Trainning Model ...\n",
            "\n",
            "Epoch 1/5\n",
            "746/746 [==============================] - 950s 1s/step - loss: 0.2915 - accuracy: 0.8098 - val_loss: 0.1152 - val_accuracy: 0.9432\n",
            "Epoch 2/5\n",
            "746/746 [==============================] - 946s 1s/step - loss: 0.0730 - accuracy: 0.9654 - val_loss: 0.0681 - val_accuracy: 0.9673\n",
            "Epoch 3/5\n",
            "746/746 [==============================] - 947s 1s/step - loss: 0.0455 - accuracy: 0.9793 - val_loss: 0.0603 - val_accuracy: 0.9719\n",
            "Epoch 4/5\n",
            "746/746 [==============================] - 946s 1s/step - loss: 0.0330 - accuracy: 0.9854 - val_loss: 0.0592 - val_accuracy: 0.9731\n",
            "Epoch 5/5\n",
            "746/746 [==============================] - 953s 1s/step - loss: 0.0262 - accuracy: 0.9892 - val_loss: 0.0603 - val_accuracy: 0.9748\n",
            "\n",
            "Elapsed Time: 01:19:26\n",
            "Completed Model Trainning\n"
          ]
        }
      ],
      "source": [
        "print(\"Starting...\\n\")\n",
        "start_time = time.time()\n",
        "\n",
        "print(\"Trainning Model ...\\n\")\n",
        "model.fit(\n",
        "    X_train_seq,\n",
        "    y_train,\n",
        "    batch_size=batch_size,\n",
        "    epochs=epochs,\n",
        "    verbose=verbose,\n",
        "    validation_split=validation_split\n",
        ")\n",
        "\n",
        "elapsed_time = time.time() - start_time\n",
        "elapsed_time = time.strftime(\"%H:%M:%S\", time.gmtime(elapsed_time))\n",
        "\n",
        "print(\"\\nElapsed Time: \" + elapsed_time)\n",
        "print(\"Completed Model Trainning\")"
      ]
    },
    {
      "cell_type": "code",
      "execution_count": null,
      "metadata": {
        "colab": {
          "base_uri": "https://localhost:8080/"
        },
        "id": "VscqSNMY6mDd",
        "outputId": "f3918c78-7880-4d84-95de-7bedff5e10d5"
      },
      "outputs": [
        {
          "output_type": "stream",
          "name": "stdout",
          "text": [
            "Testing...\n",
            "165/165 [==============================] - 15s 91ms/step - loss: 0.0612 - accuracy: 0.9747\n",
            "Test score: 0.0611986480653286\n",
            "Test accuracy: 0.9747340679168701\n",
            "Accuracy of Attention LSTM Model: 97.47%\n"
          ]
        }
      ],
      "source": [
        "\n",
        "test_X_seq = tokenizer.texts_to_sequences(X_test)\n",
        "test_X_seq = sequence.pad_sequences(test_X_seq, maxlen=max_len)\n",
        "print('Testing...')\n",
        "score, acc = model.evaluate(test_X_seq, y_test, batch_size=128)\n",
        "\n",
        "print('Test score:', score)\n",
        "print('Test accuracy:', acc)\n",
        "\n",
        "print(\"Accuracy of Attention LSTM Model: {0:.2%}\".format(acc))"
      ]
    },
    {
      "cell_type": "code",
      "execution_count": null,
      "metadata": {
        "colab": {
          "base_uri": "https://localhost:8080/"
        },
        "id": "AXFd2FGA6mPD",
        "outputId": "1bde37c7-ebac-4655-a5dd-5dba088b893d"
      },
      "outputs": [
        {
          "output_type": "stream",
          "name": "stderr",
          "text": [
            "WARNING:absl:Found untraced functions such as lstm_cell_layer_call_fn, lstm_cell_layer_call_and_return_conditional_losses, lstm_cell_layer_call_fn, lstm_cell_layer_call_and_return_conditional_losses, lstm_cell_layer_call_and_return_conditional_losses while saving (showing 5 of 5). These functions will not be directly callable after loading.\n"
          ]
        },
        {
          "output_type": "stream",
          "name": "stdout",
          "text": [
            "INFO:tensorflow:Assets written to: ram://d31f6522-e911-4cb4-91a5-64f9eb73a88f/assets\n"
          ]
        },
        {
          "output_type": "stream",
          "name": "stderr",
          "text": [
            "INFO:tensorflow:Assets written to: ram://d31f6522-e911-4cb4-91a5-64f9eb73a88f/assets\n",
            "WARNING:absl:<keras.layers.recurrent.LSTMCell object at 0x7f1193ef9190> has the same name 'LSTMCell' as a built-in Keras object. Consider renaming <class 'keras.layers.recurrent.LSTMCell'> to avoid naming conflicts when loading with `tf.keras.models.load_model`. If renaming is not possible, pass the object in the `custom_objects` parameter of the load function.\n"
          ]
        },
        {
          "output_type": "stream",
          "name": "stdout",
          "text": [
            "INFO:tensorflow:Assets written to: ram://3e22d68b-db03-496b-8e9e-88285b7dce54/assets\n"
          ]
        },
        {
          "output_type": "stream",
          "name": "stderr",
          "text": [
            "INFO:tensorflow:Assets written to: ram://3e22d68b-db03-496b-8e9e-88285b7dce54/assets\n",
            "WARNING:absl:Found untraced functions such as gru_cell_layer_call_fn, gru_cell_layer_call_and_return_conditional_losses, gru_cell_layer_call_fn, gru_cell_layer_call_and_return_conditional_losses, gru_cell_layer_call_and_return_conditional_losses while saving (showing 5 of 5). These functions will not be directly callable after loading.\n"
          ]
        },
        {
          "output_type": "stream",
          "name": "stdout",
          "text": [
            "INFO:tensorflow:Assets written to: ram://a78583bf-1adc-4d8a-ba64-61a902592275/assets\n"
          ]
        },
        {
          "output_type": "stream",
          "name": "stderr",
          "text": [
            "INFO:tensorflow:Assets written to: ram://a78583bf-1adc-4d8a-ba64-61a902592275/assets\n",
            "WARNING:absl:<keras.layers.recurrent.GRUCell object at 0x7f1191779b10> has the same name 'GRUCell' as a built-in Keras object. Consider renaming <class 'keras.layers.recurrent.GRUCell'> to avoid naming conflicts when loading with `tf.keras.models.load_model`. If renaming is not possible, pass the object in the `custom_objects` parameter of the load function.\n",
            "WARNING:absl:Found untraced functions such as lstm_cell_1_layer_call_fn, lstm_cell_1_layer_call_and_return_conditional_losses, dense_6_layer_call_fn, dense_6_layer_call_and_return_conditional_losses, dense_7_layer_call_fn while saving (showing 5 of 20). These functions will not be directly callable after loading.\n"
          ]
        },
        {
          "output_type": "stream",
          "name": "stdout",
          "text": [
            "INFO:tensorflow:Assets written to: ram://fa4b50b5-b096-4305-b8cf-f98c380eccb7/assets\n"
          ]
        },
        {
          "output_type": "stream",
          "name": "stderr",
          "text": [
            "INFO:tensorflow:Assets written to: ram://fa4b50b5-b096-4305-b8cf-f98c380eccb7/assets\n",
            "WARNING:absl:<keras.layers.recurrent.LSTMCell object at 0x7f118a442510> has the same name 'LSTMCell' as a built-in Keras object. Consider renaming <class 'keras.layers.recurrent.LSTMCell'> to avoid naming conflicts when loading with `tf.keras.models.load_model`. If renaming is not possible, pass the object in the `custom_objects` parameter of the load function.\n"
          ]
        }
      ],
      "source": [
        "import pickle\n",
        "\n",
        "pickle.dump(model1, open('model_lstm.pkl', 'wb'))\n",
        "\n",
        "pickle.dump(model2, open('model_cnn.pkl', 'wb'))\n",
        "\n",
        "pickle.dump(model3, open('model_gru.pkl', 'wb'))\n",
        "\n",
        "pickle.dump(model, open('model_attention.pkl', 'wb'))"
      ]
    },
    {
      "cell_type": "code",
      "execution_count": null,
      "metadata": {
        "id": "EUdYjYyPP4dl"
      },
      "outputs": [],
      "source": [
        "import joblib\n",
        "from sklearn.pipeline import Pipeline\n",
        "from sklearn.metrics import accuracy_score, confusion_matrix"
      ]
    },
    {
      "cell_type": "code",
      "execution_count": null,
      "metadata": {
        "id": "XnGJj1PUP5ji",
        "colab": {
          "base_uri": "https://localhost:8080/",
          "height": 658
        },
        "outputId": "d0a7dd51-80b4-4d42-ed41-012bc72c9754"
      },
      "outputs": [
        {
          "output_type": "error",
          "ename": "ValueError",
          "evalue": "ignored",
          "traceback": [
            "\u001b[0;31m---------------------------------------------------------------------------\u001b[0m",
            "\u001b[0;31mValueError\u001b[0m                                Traceback (most recent call last)",
            "\u001b[0;32m<ipython-input-20-60fd7c800f9f>\u001b[0m in \u001b[0;36m<module>\u001b[0;34m()\u001b[0m\n\u001b[1;32m      1\u001b[0m \u001b[0mlstm_pipeline\u001b[0m \u001b[0;34m=\u001b[0m \u001b[0mjoblib\u001b[0m\u001b[0;34m.\u001b[0m\u001b[0mload\u001b[0m\u001b[0;34m(\u001b[0m\u001b[0;34m'model_lstm.pkl'\u001b[0m\u001b[0;34m)\u001b[0m\u001b[0;34m\u001b[0m\u001b[0;34m\u001b[0m\u001b[0m\n\u001b[0;32m----> 2\u001b[0;31m \u001b[0mprint\u001b[0m\u001b[0;34m(\u001b[0m\u001b[0;34m\"lstm [loss,acc] - \"\u001b[0m\u001b[0;34m,\u001b[0m\u001b[0mlstm_pipeline\u001b[0m\u001b[0;34m.\u001b[0m\u001b[0mevaluate\u001b[0m\u001b[0;34m(\u001b[0m\u001b[0mtest_X_seq\u001b[0m\u001b[0;34m,\u001b[0m \u001b[0my_test\u001b[0m\u001b[0;34m,\u001b[0m \u001b[0mbatch_size\u001b[0m\u001b[0;34m=\u001b[0m\u001b[0;36m128\u001b[0m\u001b[0;34m)\u001b[0m\u001b[0;34m)\u001b[0m\u001b[0;34m\u001b[0m\u001b[0;34m\u001b[0m\u001b[0m\n\u001b[0m\u001b[1;32m      3\u001b[0m \u001b[0mcnn_pipeline\u001b[0m \u001b[0;34m=\u001b[0m \u001b[0mjoblib\u001b[0m\u001b[0;34m.\u001b[0m\u001b[0mload\u001b[0m\u001b[0;34m(\u001b[0m\u001b[0;34m'model_cnn.pkl'\u001b[0m\u001b[0;34m)\u001b[0m\u001b[0;34m\u001b[0m\u001b[0;34m\u001b[0m\u001b[0m\n\u001b[1;32m      4\u001b[0m \u001b[0mprint\u001b[0m\u001b[0;34m(\u001b[0m\u001b[0;34m\"cnn [loss,acc] - \"\u001b[0m\u001b[0;34m,\u001b[0m\u001b[0mcnn_pipeline\u001b[0m\u001b[0;34m.\u001b[0m\u001b[0mevaluate\u001b[0m\u001b[0;34m(\u001b[0m\u001b[0mtest_X_seq\u001b[0m\u001b[0;34m,\u001b[0m \u001b[0my_test\u001b[0m\u001b[0;34m,\u001b[0m \u001b[0mbatch_size\u001b[0m\u001b[0;34m=\u001b[0m\u001b[0;36m128\u001b[0m\u001b[0;34m)\u001b[0m\u001b[0;34m)\u001b[0m\u001b[0;34m\u001b[0m\u001b[0;34m\u001b[0m\u001b[0m\n\u001b[1;32m      5\u001b[0m \u001b[0mgru_pipeline\u001b[0m \u001b[0;34m=\u001b[0m \u001b[0mjoblib\u001b[0m\u001b[0;34m.\u001b[0m\u001b[0mload\u001b[0m\u001b[0;34m(\u001b[0m\u001b[0;34m'model_gru.pkl'\u001b[0m\u001b[0;34m)\u001b[0m\u001b[0;34m\u001b[0m\u001b[0;34m\u001b[0m\u001b[0m\n",
            "\u001b[0;32m/usr/local/lib/python3.7/dist-packages/keras/utils/traceback_utils.py\u001b[0m in \u001b[0;36merror_handler\u001b[0;34m(*args, **kwargs)\u001b[0m\n\u001b[1;32m     65\u001b[0m     \u001b[0;32mexcept\u001b[0m \u001b[0mException\u001b[0m \u001b[0;32mas\u001b[0m \u001b[0me\u001b[0m\u001b[0;34m:\u001b[0m  \u001b[0;31m# pylint: disable=broad-except\u001b[0m\u001b[0;34m\u001b[0m\u001b[0;34m\u001b[0m\u001b[0m\n\u001b[1;32m     66\u001b[0m       \u001b[0mfiltered_tb\u001b[0m \u001b[0;34m=\u001b[0m \u001b[0m_process_traceback_frames\u001b[0m\u001b[0;34m(\u001b[0m\u001b[0me\u001b[0m\u001b[0;34m.\u001b[0m\u001b[0m__traceback__\u001b[0m\u001b[0;34m)\u001b[0m\u001b[0;34m\u001b[0m\u001b[0;34m\u001b[0m\u001b[0m\n\u001b[0;32m---> 67\u001b[0;31m       \u001b[0;32mraise\u001b[0m \u001b[0me\u001b[0m\u001b[0;34m.\u001b[0m\u001b[0mwith_traceback\u001b[0m\u001b[0;34m(\u001b[0m\u001b[0mfiltered_tb\u001b[0m\u001b[0;34m)\u001b[0m \u001b[0;32mfrom\u001b[0m \u001b[0;32mNone\u001b[0m\u001b[0;34m\u001b[0m\u001b[0;34m\u001b[0m\u001b[0m\n\u001b[0m\u001b[1;32m     68\u001b[0m     \u001b[0;32mfinally\u001b[0m\u001b[0;34m:\u001b[0m\u001b[0;34m\u001b[0m\u001b[0;34m\u001b[0m\u001b[0m\n\u001b[1;32m     69\u001b[0m       \u001b[0;32mdel\u001b[0m \u001b[0mfiltered_tb\u001b[0m\u001b[0;34m\u001b[0m\u001b[0;34m\u001b[0m\u001b[0m\n",
            "\u001b[0;32m/usr/local/lib/python3.7/dist-packages/tensorflow/python/framework/func_graph.py\u001b[0m in \u001b[0;36mautograph_handler\u001b[0;34m(*args, **kwargs)\u001b[0m\n\u001b[1;32m   1127\u001b[0m           \u001b[0;32mexcept\u001b[0m \u001b[0mException\u001b[0m \u001b[0;32mas\u001b[0m \u001b[0me\u001b[0m\u001b[0;34m:\u001b[0m  \u001b[0;31m# pylint:disable=broad-except\u001b[0m\u001b[0;34m\u001b[0m\u001b[0;34m\u001b[0m\u001b[0m\n\u001b[1;32m   1128\u001b[0m             \u001b[0;32mif\u001b[0m \u001b[0mhasattr\u001b[0m\u001b[0;34m(\u001b[0m\u001b[0me\u001b[0m\u001b[0;34m,\u001b[0m \u001b[0;34m\"ag_error_metadata\"\u001b[0m\u001b[0;34m)\u001b[0m\u001b[0;34m:\u001b[0m\u001b[0;34m\u001b[0m\u001b[0;34m\u001b[0m\u001b[0m\n\u001b[0;32m-> 1129\u001b[0;31m               \u001b[0;32mraise\u001b[0m \u001b[0me\u001b[0m\u001b[0;34m.\u001b[0m\u001b[0mag_error_metadata\u001b[0m\u001b[0;34m.\u001b[0m\u001b[0mto_exception\u001b[0m\u001b[0;34m(\u001b[0m\u001b[0me\u001b[0m\u001b[0;34m)\u001b[0m\u001b[0;34m\u001b[0m\u001b[0;34m\u001b[0m\u001b[0m\n\u001b[0m\u001b[1;32m   1130\u001b[0m             \u001b[0;32melse\u001b[0m\u001b[0;34m:\u001b[0m\u001b[0;34m\u001b[0m\u001b[0;34m\u001b[0m\u001b[0m\n\u001b[1;32m   1131\u001b[0m               \u001b[0;32mraise\u001b[0m\u001b[0;34m\u001b[0m\u001b[0;34m\u001b[0m\u001b[0m\n",
            "\u001b[0;31mValueError\u001b[0m: in user code:\n\n    File \"/usr/local/lib/python3.7/dist-packages/keras/engine/training.py\", line 1366, in test_function  *\n        return step_function(self, iterator)\n    File \"/usr/local/lib/python3.7/dist-packages/keras/engine/training.py\", line 1356, in step_function  **\n        outputs = model.distribute_strategy.run(run_step, args=(data,))\n    File \"/usr/local/lib/python3.7/dist-packages/keras/engine/training.py\", line 1349, in run_step  **\n        outputs = model.test_step(data)\n    File \"/usr/local/lib/python3.7/dist-packages/keras/engine/training.py\", line 1303, in test_step\n        y_pred = self(x, training=False)\n    File \"/usr/local/lib/python3.7/dist-packages/keras/utils/traceback_utils.py\", line 67, in error_handler\n        raise e.with_traceback(filtered_tb) from None\n    File \"/usr/local/lib/python3.7/dist-packages/keras/engine/input_spec.py\", line 263, in assert_input_compatibility\n        raise ValueError(f'Input {input_index} of layer \"{layer_name}\" is '\n\n    ValueError: Input 0 of layer \"sequential\" is incompatible with the layer: expected shape=(None, 411), found shape=(None, 440)\n"
          ]
        }
      ],
      "source": [
        "lstm_pipeline = joblib.load('model_lstm.pkl')\n",
        "print(\"lstm [loss,acc] - \",lstm_pipeline.evaluate(test_X_seq, y_test, batch_size=128))\n",
        "cnn_pipeline = joblib.load('model_cnn.pkl')\n",
        "print(\"cnn [loss,acc] - \",cnn_pipeline.evaluate(test_X_seq, y_test, batch_size=128))\n",
        "gru_pipeline = joblib.load('model_gru.pkl')\n",
        "print(\"gru [loss,acc] - \",gru_pipeline.evaluate(test_X_seq, y_test, batch_size=128))\n",
        "attention_pipeline = joblib.load('model_attention.pkl')\n",
        "print(\"attention [loss,acc] - \",attention_pipeline.evaluate(test_X_seq, y_test, batch_size=128))"
      ]
    },
    {
      "cell_type": "code",
      "execution_count": null,
      "metadata": {
        "colab": {
          "base_uri": "https://localhost:8080/"
        },
        "id": "VB99LuCSP5vS",
        "outputId": "1c10e579-21d4-42d9-c175-8a589bcf8558"
      },
      "outputs": [
        {
          "output_type": "stream",
          "name": "stdout",
          "text": [
            "w/o attn:  0.9835201367781155\n",
            "w attn:  0.9836626139817629\n"
          ]
        }
      ],
      "source": [
        "from sklearn.metrics import accuracy_score, confusion_matrix\n",
        "def simple_stacking(models,data):\n",
        "    pred_total = 0\n",
        "    for model in models:\n",
        "        proba_model = model.predict(data)\n",
        "        pred_total += proba_model #pred_model\n",
        "    pred_final = (pred_total/len(models))\n",
        "    a=pred_final\n",
        "    pred_final=(a == a.max(axis=1)[:,None]).astype('float32')\n",
        "    return pred_final\n",
        "#Ensemble without Attention LSTM\n",
        "models = [lstm_pipeline, cnn_pipeline, gru_pipeline]\n",
        "#Ensemble with Attention LSTM\n",
        "models2 = [lstm_pipeline, cnn_pipeline, gru_pipeline, attention_pipeline]\n",
        "pred_final = simple_stacking(models,test_X_seq)\n",
        "pred_final2 = simple_stacking(models2,test_X_seq)\n",
        "print(\"w/o attn: \",accuracy_score(pred_final, y_test))\n",
        "print(\"w attn: \",accuracy_score(pred_final2, y_test))"
      ]
    },
    {
      "cell_type": "code",
      "source": [],
      "metadata": {
        "id": "UWZ7LBp6kM7n"
      },
      "execution_count": null,
      "outputs": []
    },
    {
      "cell_type": "code",
      "execution_count": null,
      "metadata": {
        "id": "TscgXs_3SHJa",
        "colab": {
          "base_uri": "https://localhost:8080/",
          "height": 658
        },
        "outputId": "495c37c9-e55e-488f-a0c1-0317c24db5c2"
      },
      "outputs": [
        {
          "output_type": "error",
          "ename": "ValueError",
          "evalue": "ignored",
          "traceback": [
            "\u001b[0;31m---------------------------------------------------------------------------\u001b[0m",
            "\u001b[0;31mValueError\u001b[0m                                Traceback (most recent call last)",
            "\u001b[0;32m<ipython-input-17-c10bcb288810>\u001b[0m in \u001b[0;36m<module>\u001b[0;34m()\u001b[0m\n\u001b[1;32m      1\u001b[0m \u001b[0mX_seq\u001b[0m \u001b[0;34m=\u001b[0m \u001b[0mtokenizer\u001b[0m\u001b[0;34m.\u001b[0m\u001b[0mtexts_to_sequences\u001b[0m\u001b[0;34m(\u001b[0m\u001b[0mX\u001b[0m\u001b[0;34m)\u001b[0m\u001b[0;34m\u001b[0m\u001b[0;34m\u001b[0m\u001b[0m\n\u001b[1;32m      2\u001b[0m \u001b[0mX_seq\u001b[0m \u001b[0;34m=\u001b[0m \u001b[0msequence\u001b[0m\u001b[0;34m.\u001b[0m\u001b[0mpad_sequences\u001b[0m\u001b[0;34m(\u001b[0m\u001b[0mX_seq\u001b[0m\u001b[0;34m,\u001b[0m \u001b[0mmaxlen\u001b[0m\u001b[0;34m=\u001b[0m\u001b[0mmax_len\u001b[0m\u001b[0;34m)\u001b[0m\u001b[0;34m\u001b[0m\u001b[0;34m\u001b[0m\u001b[0m\n\u001b[0;32m----> 3\u001b[0;31m \u001b[0mlstm_vals\u001b[0m \u001b[0;34m=\u001b[0m \u001b[0mlstm_pipeline\u001b[0m\u001b[0;34m.\u001b[0m\u001b[0mpredict\u001b[0m\u001b[0;34m(\u001b[0m\u001b[0mX_seq\u001b[0m\u001b[0;34m,\u001b[0m\u001b[0mbatch_size\u001b[0m\u001b[0;34m=\u001b[0m\u001b[0;36m128\u001b[0m\u001b[0;34m)\u001b[0m\u001b[0;34m\u001b[0m\u001b[0;34m\u001b[0m\u001b[0m\n\u001b[0m\u001b[1;32m      4\u001b[0m \u001b[0ma\u001b[0m\u001b[0;34m=\u001b[0m\u001b[0mlstm_vals\u001b[0m\u001b[0;34m\u001b[0m\u001b[0;34m\u001b[0m\u001b[0m\n\u001b[1;32m      5\u001b[0m \u001b[0mlstm_vals\u001b[0m\u001b[0;34m=\u001b[0m\u001b[0;34m(\u001b[0m\u001b[0ma\u001b[0m \u001b[0;34m==\u001b[0m \u001b[0ma\u001b[0m\u001b[0;34m.\u001b[0m\u001b[0mmax\u001b[0m\u001b[0;34m(\u001b[0m\u001b[0maxis\u001b[0m\u001b[0;34m=\u001b[0m\u001b[0;36m1\u001b[0m\u001b[0;34m)\u001b[0m\u001b[0;34m[\u001b[0m\u001b[0;34m:\u001b[0m\u001b[0;34m,\u001b[0m\u001b[0;32mNone\u001b[0m\u001b[0;34m]\u001b[0m\u001b[0;34m)\u001b[0m\u001b[0;34m.\u001b[0m\u001b[0mastype\u001b[0m\u001b[0;34m(\u001b[0m\u001b[0;34m'float32'\u001b[0m\u001b[0;34m)\u001b[0m\u001b[0;34m\u001b[0m\u001b[0;34m\u001b[0m\u001b[0m\n",
            "\u001b[0;32m/usr/local/lib/python3.7/dist-packages/keras/utils/traceback_utils.py\u001b[0m in \u001b[0;36merror_handler\u001b[0;34m(*args, **kwargs)\u001b[0m\n\u001b[1;32m     65\u001b[0m     \u001b[0;32mexcept\u001b[0m \u001b[0mException\u001b[0m \u001b[0;32mas\u001b[0m \u001b[0me\u001b[0m\u001b[0;34m:\u001b[0m  \u001b[0;31m# pylint: disable=broad-except\u001b[0m\u001b[0;34m\u001b[0m\u001b[0;34m\u001b[0m\u001b[0m\n\u001b[1;32m     66\u001b[0m       \u001b[0mfiltered_tb\u001b[0m \u001b[0;34m=\u001b[0m \u001b[0m_process_traceback_frames\u001b[0m\u001b[0;34m(\u001b[0m\u001b[0me\u001b[0m\u001b[0;34m.\u001b[0m\u001b[0m__traceback__\u001b[0m\u001b[0;34m)\u001b[0m\u001b[0;34m\u001b[0m\u001b[0;34m\u001b[0m\u001b[0m\n\u001b[0;32m---> 67\u001b[0;31m       \u001b[0;32mraise\u001b[0m \u001b[0me\u001b[0m\u001b[0;34m.\u001b[0m\u001b[0mwith_traceback\u001b[0m\u001b[0;34m(\u001b[0m\u001b[0mfiltered_tb\u001b[0m\u001b[0;34m)\u001b[0m \u001b[0;32mfrom\u001b[0m \u001b[0;32mNone\u001b[0m\u001b[0;34m\u001b[0m\u001b[0;34m\u001b[0m\u001b[0m\n\u001b[0m\u001b[1;32m     68\u001b[0m     \u001b[0;32mfinally\u001b[0m\u001b[0;34m:\u001b[0m\u001b[0;34m\u001b[0m\u001b[0;34m\u001b[0m\u001b[0m\n\u001b[1;32m     69\u001b[0m       \u001b[0;32mdel\u001b[0m \u001b[0mfiltered_tb\u001b[0m\u001b[0;34m\u001b[0m\u001b[0;34m\u001b[0m\u001b[0m\n",
            "\u001b[0;32m/usr/local/lib/python3.7/dist-packages/tensorflow/python/framework/func_graph.py\u001b[0m in \u001b[0;36mautograph_handler\u001b[0;34m(*args, **kwargs)\u001b[0m\n\u001b[1;32m   1127\u001b[0m           \u001b[0;32mexcept\u001b[0m \u001b[0mException\u001b[0m \u001b[0;32mas\u001b[0m \u001b[0me\u001b[0m\u001b[0;34m:\u001b[0m  \u001b[0;31m# pylint:disable=broad-except\u001b[0m\u001b[0;34m\u001b[0m\u001b[0;34m\u001b[0m\u001b[0m\n\u001b[1;32m   1128\u001b[0m             \u001b[0;32mif\u001b[0m \u001b[0mhasattr\u001b[0m\u001b[0;34m(\u001b[0m\u001b[0me\u001b[0m\u001b[0;34m,\u001b[0m \u001b[0;34m\"ag_error_metadata\"\u001b[0m\u001b[0;34m)\u001b[0m\u001b[0;34m:\u001b[0m\u001b[0;34m\u001b[0m\u001b[0;34m\u001b[0m\u001b[0m\n\u001b[0;32m-> 1129\u001b[0;31m               \u001b[0;32mraise\u001b[0m \u001b[0me\u001b[0m\u001b[0;34m.\u001b[0m\u001b[0mag_error_metadata\u001b[0m\u001b[0;34m.\u001b[0m\u001b[0mto_exception\u001b[0m\u001b[0;34m(\u001b[0m\u001b[0me\u001b[0m\u001b[0;34m)\u001b[0m\u001b[0;34m\u001b[0m\u001b[0;34m\u001b[0m\u001b[0m\n\u001b[0m\u001b[1;32m   1130\u001b[0m             \u001b[0;32melse\u001b[0m\u001b[0;34m:\u001b[0m\u001b[0;34m\u001b[0m\u001b[0;34m\u001b[0m\u001b[0m\n\u001b[1;32m   1131\u001b[0m               \u001b[0;32mraise\u001b[0m\u001b[0;34m\u001b[0m\u001b[0;34m\u001b[0m\u001b[0m\n",
            "\u001b[0;31mValueError\u001b[0m: in user code:\n\n    File \"/usr/local/lib/python3.7/dist-packages/keras/engine/training.py\", line 1621, in predict_function  *\n        return step_function(self, iterator)\n    File \"/usr/local/lib/python3.7/dist-packages/keras/engine/training.py\", line 1611, in step_function  **\n        outputs = model.distribute_strategy.run(run_step, args=(data,))\n    File \"/usr/local/lib/python3.7/dist-packages/keras/engine/training.py\", line 1604, in run_step  **\n        outputs = model.predict_step(data)\n    File \"/usr/local/lib/python3.7/dist-packages/keras/engine/training.py\", line 1572, in predict_step\n        return self(x, training=False)\n    File \"/usr/local/lib/python3.7/dist-packages/keras/utils/traceback_utils.py\", line 67, in error_handler\n        raise e.with_traceback(filtered_tb) from None\n    File \"/usr/local/lib/python3.7/dist-packages/keras/engine/input_spec.py\", line 263, in assert_input_compatibility\n        raise ValueError(f'Input {input_index} of layer \"{layer_name}\" is '\n\n    ValueError: Input 0 of layer \"sequential\" is incompatible with the layer: expected shape=(None, 411), found shape=(None, 440)\n"
          ]
        }
      ],
      "source": [
        "X_seq = tokenizer.texts_to_sequences(X)\n",
        "X_seq = sequence.pad_sequences(X_seq, maxlen=max_len)\n",
        "lstm_vals = lstm_pipeline.predict(X_seq,batch_size=128)\n",
        "a=lstm_vals\n",
        "lstm_vals=(a == a.max(axis=1)[:,None]).astype('float32')\n",
        "cnn_vals = cnn_pipeline.predict(X_seq,batch_size=128)\n",
        "a=cnn_vals\n",
        "cnn_vals=(a == a.max(axis=1)[:,None]).astype('float32')\n",
        "gru_vals = gru_pipeline.predict(X_seq,batch_size=128)\n",
        "a=gru_vals\n",
        "gru_vals=(a == a.max(axis=1)[:,None]).astype('float32')\n",
        "attlstm_vals = attention_pipeline.predict(X_seq,batch_size=128)\n",
        "a=attlstm_vals\n",
        "attlstm_vals=(a == a.max(axis=1)[:,None]).astype('float32')\n",
        "ensb1_vals = simple_stacking(models,X_seq)\n",
        "ensb2_vals =  simple_stacking(models2,X_seq)\n"
      ]
    },
    {
      "cell_type": "code",
      "execution_count": null,
      "metadata": {
        "id": "Xzso422vUpzA"
      },
      "outputs": [],
      "source": [
        "def get_val(L):\n",
        "  l=[]\n",
        "  for i in L:\n",
        "    if i[0]==1:\n",
        "      l.append(\"-1\")\n",
        "    elif i[1]==1:\n",
        "      l.append(\"0\")\n",
        "    elif i[2]==1:\n",
        "      l.append(\"1\")\n",
        "  return l"
      ]
    },
    {
      "cell_type": "code",
      "execution_count": null,
      "metadata": {
        "id": "hQxsgdNLSjWi"
      },
      "outputs": [],
      "source": [
        "dfd = pd.DataFrame()\n",
        "dfd['text'] = df['og_text']\n",
        "dfd['date']=df['date']\n",
        "dfd['Actual-textblob'] = get_val(Y)\n",
        "dfd['LSTM']=get_val(lstm_vals)\n",
        "dfd['CNN']=get_val(cnn_vals)\n",
        "dfd['GRU']=get_val(gru_vals)\n",
        "dfd['Att LSTM']=get_val(attlstm_vals)\n",
        "dfd['Ensemble_wo_Attn']=get_val(ensb1_vals)\n",
        "dfd['Ensemble_w_Attn']=get_val(ensb2_vals)\n",
        "dfd.to_excel(\"textblob_result.xlsx\")"
      ]
    },
    {
      "cell_type": "code",
      "execution_count": null,
      "metadata": {
        "colab": {
          "base_uri": "https://localhost:8080/",
          "height": 598
        },
        "id": "-0MYrCLOU8Pg",
        "outputId": "2ba221e3-7514-4046-e245-cf330a7a513b"
      },
      "outputs": [
        {
          "output_type": "execute_result",
          "data": {
            "text/html": [
              "\n",
              "  <div id=\"df-127c7ac1-a29f-4f5b-b12c-c9d97d858824\">\n",
              "    <div class=\"colab-df-container\">\n",
              "      <div>\n",
              "<style scoped>\n",
              "    .dataframe tbody tr th:only-of-type {\n",
              "        vertical-align: middle;\n",
              "    }\n",
              "\n",
              "    .dataframe tbody tr th {\n",
              "        vertical-align: top;\n",
              "    }\n",
              "\n",
              "    .dataframe thead th {\n",
              "        text-align: right;\n",
              "    }\n",
              "</style>\n",
              "<table border=\"1\" class=\"dataframe\">\n",
              "  <thead>\n",
              "    <tr style=\"text-align: right;\">\n",
              "      <th></th>\n",
              "      <th>text</th>\n",
              "      <th>date</th>\n",
              "      <th>Actual-textblob</th>\n",
              "      <th>LSTM</th>\n",
              "      <th>CNN</th>\n",
              "      <th>GRU</th>\n",
              "      <th>Att LSTM</th>\n",
              "      <th>Ensemble_wo_Attn</th>\n",
              "      <th>Ensemble_w_Attn</th>\n",
              "    </tr>\n",
              "  </thead>\n",
              "  <tbody>\n",
              "    <tr>\n",
              "      <th>131396</th>\n",
              "      <td>buy on dip till 11606 with stop loss of 20 poi...</td>\n",
              "      <td>27-02-2020 09:24</td>\n",
              "      <td>0</td>\n",
              "      <td>0</td>\n",
              "      <td>0</td>\n",
              "      <td>0</td>\n",
              "      <td>0</td>\n",
              "      <td>0</td>\n",
              "      <td>0</td>\n",
              "    </tr>\n",
              "    <tr>\n",
              "      <th>91181</th>\n",
              "      <td>market stat a of now banknifty nifty niftyfift...</td>\n",
              "      <td>09-06-2020 09:49</td>\n",
              "      <td>0</td>\n",
              "      <td>0</td>\n",
              "      <td>0</td>\n",
              "      <td>0</td>\n",
              "      <td>0</td>\n",
              "      <td>0</td>\n",
              "      <td>0</td>\n",
              "    </tr>\n",
              "    <tr>\n",
              "      <th>29892</th>\n",
              "      <td>amp bse sensex nse nifty 50 likely to open low...</td>\n",
              "      <td>21-10-2020 04:31</td>\n",
              "      <td>0</td>\n",
              "      <td>0</td>\n",
              "      <td>0</td>\n",
              "      <td>0</td>\n",
              "      <td>0</td>\n",
              "      <td>0</td>\n",
              "      <td>0</td>\n",
              "    </tr>\n",
              "    <tr>\n",
              "      <th>6831</th>\n",
              "      <td>USER mukesh ambani promoted reliance jio which...</td>\n",
              "      <td>16-12-2020 19:41</td>\n",
              "      <td>0</td>\n",
              "      <td>0</td>\n",
              "      <td>0</td>\n",
              "      <td>0</td>\n",
              "      <td>0</td>\n",
              "      <td>0</td>\n",
              "      <td>0</td>\n",
              "    </tr>\n",
              "    <tr>\n",
              "      <th>93174</th>\n",
              "      <td>high and extreme volume is not retail money un...</td>\n",
              "      <td>04-06-2020 15:42</td>\n",
              "      <td>1</td>\n",
              "      <td>1</td>\n",
              "      <td>1</td>\n",
              "      <td>1</td>\n",
              "      <td>1</td>\n",
              "      <td>1</td>\n",
              "      <td>1</td>\n",
              "    </tr>\n",
              "    <tr>\n",
              "      <th>86707</th>\n",
              "      <td>kscl sell 605 610 sl USER target 590 581 jackp...</td>\n",
              "      <td>17-06-2020 10:01</td>\n",
              "      <td>0</td>\n",
              "      <td>0</td>\n",
              "      <td>0</td>\n",
              "      <td>0</td>\n",
              "      <td>0</td>\n",
              "      <td>0</td>\n",
              "      <td>0</td>\n",
              "    </tr>\n",
              "    <tr>\n",
              "      <th>137560</th>\n",
              "      <td>india share lower at close of trade nifty 50 d...</td>\n",
              "      <td>27-01-2020 16:25</td>\n",
              "      <td>-1</td>\n",
              "      <td>-1</td>\n",
              "      <td>-1</td>\n",
              "      <td>-1</td>\n",
              "      <td>-1</td>\n",
              "      <td>-1</td>\n",
              "      <td>-1</td>\n",
              "    </tr>\n",
              "    <tr>\n",
              "      <th>24504</th>\n",
              "      <td>sunpharma trying to come out of wood finding s...</td>\n",
              "      <td>03-11-2020 10:49</td>\n",
              "      <td>0</td>\n",
              "      <td>0</td>\n",
              "      <td>0</td>\n",
              "      <td>0</td>\n",
              "      <td>0</td>\n",
              "      <td>0</td>\n",
              "      <td>0</td>\n",
              "    </tr>\n",
              "    <tr>\n",
              "      <th>75220</th>\n",
              "      <td>bank nifty market analysis for 10th july 2020 ...</td>\n",
              "      <td>09-07-2020 17:28</td>\n",
              "      <td>0</td>\n",
              "      <td>0</td>\n",
              "      <td>0</td>\n",
              "      <td>0</td>\n",
              "      <td>0</td>\n",
              "      <td>0</td>\n",
              "      <td>0</td>\n",
              "    </tr>\n",
              "    <tr>\n",
              "      <th>69467</th>\n",
              "      <td>USER USER USER USER USER USER USER USER USER U...</td>\n",
              "      <td>21-07-2020 22:21</td>\n",
              "      <td>0</td>\n",
              "      <td>0</td>\n",
              "      <td>0</td>\n",
              "      <td>0</td>\n",
              "      <td>0</td>\n",
              "      <td>0</td>\n",
              "      <td>0</td>\n",
              "    </tr>\n",
              "  </tbody>\n",
              "</table>\n",
              "</div>\n",
              "      <button class=\"colab-df-convert\" onclick=\"convertToInteractive('df-127c7ac1-a29f-4f5b-b12c-c9d97d858824')\"\n",
              "              title=\"Convert this dataframe to an interactive table.\"\n",
              "              style=\"display:none;\">\n",
              "        \n",
              "  <svg xmlns=\"http://www.w3.org/2000/svg\" height=\"24px\"viewBox=\"0 0 24 24\"\n",
              "       width=\"24px\">\n",
              "    <path d=\"M0 0h24v24H0V0z\" fill=\"none\"/>\n",
              "    <path d=\"M18.56 5.44l.94 2.06.94-2.06 2.06-.94-2.06-.94-.94-2.06-.94 2.06-2.06.94zm-11 1L8.5 8.5l.94-2.06 2.06-.94-2.06-.94L8.5 2.5l-.94 2.06-2.06.94zm10 10l.94 2.06.94-2.06 2.06-.94-2.06-.94-.94-2.06-.94 2.06-2.06.94z\"/><path d=\"M17.41 7.96l-1.37-1.37c-.4-.4-.92-.59-1.43-.59-.52 0-1.04.2-1.43.59L10.3 9.45l-7.72 7.72c-.78.78-.78 2.05 0 2.83L4 21.41c.39.39.9.59 1.41.59.51 0 1.02-.2 1.41-.59l7.78-7.78 2.81-2.81c.8-.78.8-2.07 0-2.86zM5.41 20L4 18.59l7.72-7.72 1.47 1.35L5.41 20z\"/>\n",
              "  </svg>\n",
              "      </button>\n",
              "      \n",
              "  <style>\n",
              "    .colab-df-container {\n",
              "      display:flex;\n",
              "      flex-wrap:wrap;\n",
              "      gap: 12px;\n",
              "    }\n",
              "\n",
              "    .colab-df-convert {\n",
              "      background-color: #E8F0FE;\n",
              "      border: none;\n",
              "      border-radius: 50%;\n",
              "      cursor: pointer;\n",
              "      display: none;\n",
              "      fill: #1967D2;\n",
              "      height: 32px;\n",
              "      padding: 0 0 0 0;\n",
              "      width: 32px;\n",
              "    }\n",
              "\n",
              "    .colab-df-convert:hover {\n",
              "      background-color: #E2EBFA;\n",
              "      box-shadow: 0px 1px 2px rgba(60, 64, 67, 0.3), 0px 1px 3px 1px rgba(60, 64, 67, 0.15);\n",
              "      fill: #174EA6;\n",
              "    }\n",
              "\n",
              "    [theme=dark] .colab-df-convert {\n",
              "      background-color: #3B4455;\n",
              "      fill: #D2E3FC;\n",
              "    }\n",
              "\n",
              "    [theme=dark] .colab-df-convert:hover {\n",
              "      background-color: #434B5C;\n",
              "      box-shadow: 0px 1px 3px 1px rgba(0, 0, 0, 0.15);\n",
              "      filter: drop-shadow(0px 1px 2px rgba(0, 0, 0, 0.3));\n",
              "      fill: #FFFFFF;\n",
              "    }\n",
              "  </style>\n",
              "\n",
              "      <script>\n",
              "        const buttonEl =\n",
              "          document.querySelector('#df-127c7ac1-a29f-4f5b-b12c-c9d97d858824 button.colab-df-convert');\n",
              "        buttonEl.style.display =\n",
              "          google.colab.kernel.accessAllowed ? 'block' : 'none';\n",
              "\n",
              "        async function convertToInteractive(key) {\n",
              "          const element = document.querySelector('#df-127c7ac1-a29f-4f5b-b12c-c9d97d858824');\n",
              "          const dataTable =\n",
              "            await google.colab.kernel.invokeFunction('convertToInteractive',\n",
              "                                                     [key], {});\n",
              "          if (!dataTable) return;\n",
              "\n",
              "          const docLinkHtml = 'Like what you see? Visit the ' +\n",
              "            '<a target=\"_blank\" href=https://colab.research.google.com/notebooks/data_table.ipynb>data table notebook</a>'\n",
              "            + ' to learn more about interactive tables.';\n",
              "          element.innerHTML = '';\n",
              "          dataTable['output_type'] = 'display_data';\n",
              "          await google.colab.output.renderOutput(dataTable, element);\n",
              "          const docLink = document.createElement('div');\n",
              "          docLink.innerHTML = docLinkHtml;\n",
              "          element.appendChild(docLink);\n",
              "        }\n",
              "      </script>\n",
              "    </div>\n",
              "  </div>\n",
              "  "
            ],
            "text/plain": [
              "                                                     text  ... Ensemble_w_Attn\n",
              "131396  buy on dip till 11606 with stop loss of 20 poi...  ...               0\n",
              "91181   market stat a of now banknifty nifty niftyfift...  ...               0\n",
              "29892   amp bse sensex nse nifty 50 likely to open low...  ...               0\n",
              "6831    USER mukesh ambani promoted reliance jio which...  ...               0\n",
              "93174   high and extreme volume is not retail money un...  ...               1\n",
              "86707   kscl sell 605 610 sl USER target 590 581 jackp...  ...               0\n",
              "137560  india share lower at close of trade nifty 50 d...  ...              -1\n",
              "24504   sunpharma trying to come out of wood finding s...  ...               0\n",
              "75220   bank nifty market analysis for 10th july 2020 ...  ...               0\n",
              "69467   USER USER USER USER USER USER USER USER USER U...  ...               0\n",
              "\n",
              "[10 rows x 9 columns]"
            ]
          },
          "metadata": {},
          "execution_count": 40
        }
      ],
      "source": [
        "dfd.head(10)"
      ]
    },
    {
      "cell_type": "code",
      "source": [
        "#lstm\n",
        "cf_matrix1 = confusion_matrix(np.asarray(Y).argmax(axis=1), np.asarray(lstm_vals).argmax(axis=1))\n",
        "ax1 = sns.heatmap(cf_matrix1/np.sum(cf_matrix1), annot=True,\n",
        "            fmt='.2%', cmap='Blues')\n",
        "ax1.set_title('LSTM Confusion Matrix with labels\\n\\n');\n",
        "ax1.set_xlabel('\\nPredicted sentiment Category')\n",
        "ax1.set_ylabel('Actual sentiment Category ');\n",
        "ax1.xaxis.set_ticklabels(['negative','neutral', 'positive'])\n",
        "ax1.yaxis.set_ticklabels(['negative','neutral', 'positive'])\n",
        "plt.show()"
      ],
      "metadata": {
        "colab": {
          "base_uri": "https://localhost:8080/",
          "height": 337
        },
        "id": "-_Z99ScKRwOR",
        "outputId": "8b99b3bd-8ee2-438f-bedc-d23a1c043ec1"
      },
      "execution_count": null,
      "outputs": [
        {
          "output_type": "display_data",
          "data": {
            "image/png": "[encoded data removed]",
            "text/plain": [
              "<Figure size 432x288 with 2 Axes>"
            ]
          },
          "metadata": {
            "needs_background": "light"
          }
        }
      ]
    },
    {
      "cell_type": "code",
      "source": [
        "#lstm_test\n",
        "cf_matrix1 = confusion_matrix(np.asarray(y_test).argmax(axis=1), np.asarray(lstm_val_t).argmax(axis=1))\n",
        "ax1 = sns.heatmap(cf_matrix1/np.sum(cf_matrix1), annot=True,\n",
        "            fmt='.2%', cmap='Blues')\n",
        "ax1.set_title('LSTM Confusion Matrix with labels\\n\\n');\n",
        "ax1.set_xlabel('\\nPredicted sentiment Category')\n",
        "ax1.set_ylabel('Actual sentiment Category ');\n",
        "ax1.xaxis.set_ticklabels(['negative','neutral', 'positive'])\n",
        "ax1.yaxis.set_ticklabels(['negative','neutral', 'positive'])\n",
        "plt.show()"
      ],
      "metadata": {
        "colab": {
          "base_uri": "https://localhost:8080/",
          "height": 337
        },
        "id": "qXnma6jMR2Lw",
        "outputId": "938aca40-077f-42fa-e09c-ff620d07cc38"
      },
      "execution_count": null,
      "outputs": [
        {
          "output_type": "display_data",
          "data": {
            "image/png": "[encoded data removed]",
            "text/plain": [
              "<Figure size 432x288 with 2 Axes>"
            ]
          },
          "metadata": {
            "needs_background": "light"
          }
        }
      ]
    },
    {
      "cell_type": "code",
      "source": [
        "#cnn\n",
        "cf_matrix2 = confusion_matrix(np.asarray(Y).argmax(axis=1), np.asarray(cnn_vals).argmax(axis=1))\n",
        "ax2 = sns.heatmap(cf_matrix2/np.sum(cf_matrix2), annot=True,\n",
        "            fmt='.2%', cmap='Blues')\n",
        "ax2.set_title('CNN Confusion Matrix with labels\\n\\n');\n",
        "ax2.set_xlabel('\\nPredicted sentiment Category')\n",
        "ax2.set_ylabel('Actual sentiment Category ');\n",
        "ax2.xaxis.set_ticklabels(['negative','neutral', 'positive'])\n",
        "ax2.yaxis.set_ticklabels(['negative','neutral', 'positive'])\n",
        "plt.show()"
      ],
      "metadata": {
        "colab": {
          "base_uri": "https://localhost:8080/",
          "height": 337
        },
        "id": "Mn-wIuHeR3rU",
        "outputId": "6dbcc2cc-4703-4e58-8188-f940dadb6fa5"
      },
      "execution_count": null,
      "outputs": [
        {
          "output_type": "display_data",
          "data": {
            "image/png": "[encoded data removed]",
            "text/plain": [
              "<Figure size 432x288 with 2 Axes>"
            ]
          },
          "metadata": {
            "needs_background": "light"
          }
        }
      ]
    },
    {
      "cell_type": "code",
      "source": [
        "#cnn_test\n",
        "cf_matrix2 = confusion_matrix(np.asarray(y_test).argmax(axis=1), np.asarray(cnn_val_t).argmax(axis=1))\n",
        "ax2 = sns.heatmap(cf_matrix2/np.sum(cf_matrix2), annot=True,\n",
        "            fmt='.2%', cmap='Blues')\n",
        "ax2.set_title('CNN Confusion Matrix with labels\\n\\n');\n",
        "ax2.set_xlabel('\\nPredicted sentiment Category')\n",
        "ax2.set_ylabel('Actual sentiment Category ');\n",
        "ax2.xaxis.set_ticklabels(['negative','neutral', 'positive'])\n",
        "ax2.yaxis.set_ticklabels(['negative','neutral', 'positive'])\n",
        "plt.show()"
      ],
      "metadata": {
        "colab": {
          "base_uri": "https://localhost:8080/",
          "height": 337
        },
        "id": "5hxhVDv9R5D_",
        "outputId": "7805b1b2-6156-404a-f4aa-d6f98c0b5659"
      },
      "execution_count": null,
      "outputs": [
        {
          "output_type": "display_data",
          "data": {
            "image/png": "[encoded data removed]",
            "text/plain": [
              "<Figure size 432x288 with 2 Axes>"
            ]
          },
          "metadata": {
            "needs_background": "light"
          }
        }
      ]
    },
    {
      "cell_type": "code",
      "source": [
        "#gru\n",
        "cf_matrix3 = confusion_matrix(np.asarray(Y).argmax(axis=1), np.asarray(gru_vals).argmax(axis=1))\n",
        "ax3 = sns.heatmap(cf_matrix3/np.sum(cf_matrix3), annot=True,\n",
        "            fmt='.2%', cmap='Blues')\n",
        "ax3.set_title('GRU Confusion Matrix with labels\\n\\n');\n",
        "ax3.set_xlabel('\\nPredicted sentiment Category')\n",
        "ax3.set_ylabel('Actual sentiment Category ');\n",
        "ax3.xaxis.set_ticklabels(['negative','neutral', 'positive'])\n",
        "ax3.yaxis.set_ticklabels(['negative','neutral', 'positive'])\n",
        "plt.show()"
      ],
      "metadata": {
        "colab": {
          "base_uri": "https://localhost:8080/",
          "height": 337
        },
        "id": "xxc9gtE9R5aL",
        "outputId": "56b8d672-8db5-435a-a83b-c3fb24a976be"
      },
      "execution_count": null,
      "outputs": [
        {
          "output_type": "display_data",
          "data": {
            "image/png": "[encoded data removed]",
            "text/plain": [
              "<Figure size 432x288 with 2 Axes>"
            ]
          },
          "metadata": {
            "needs_background": "light"
          }
        }
      ]
    },
    {
      "cell_type": "code",
      "source": [
        "#gru_test\n",
        "cf_matrix3 = confusion_matrix(np.asarray(y_test).argmax(axis=1), np.asarray(gru_val_t).argmax(axis=1))\n",
        "ax3 = sns.heatmap(cf_matrix3/np.sum(cf_matrix3), annot=True,\n",
        "            fmt='.2%', cmap='Blues')\n",
        "ax3.set_title('GRU Confusion Matrix with labels\\n\\n');\n",
        "ax3.set_xlabel('\\nPredicted sentiment Category')\n",
        "ax3.set_ylabel('Actual sentiment Category ');\n",
        "ax3.xaxis.set_ticklabels(['negative','neutral', 'positive'])\n",
        "ax3.yaxis.set_ticklabels(['negative','neutral', 'positive'])\n",
        "plt.show()"
      ],
      "metadata": {
        "colab": {
          "base_uri": "https://localhost:8080/",
          "height": 337
        },
        "id": "RobeAE7dR5l8",
        "outputId": "1036c594-04e8-4c51-b66c-55c964fcb470"
      },
      "execution_count": null,
      "outputs": [
        {
          "output_type": "display_data",
          "data": {
            "image/png": "[encoded data removed]",
            "text/plain": [
              "<Figure size 432x288 with 2 Axes>"
            ]
          },
          "metadata": {
            "needs_background": "light"
          }
        }
      ]
    },
    {
      "cell_type": "code",
      "source": [
        "#attention\n",
        "cf_matrix4 = confusion_matrix(np.asarray(Y).argmax(axis=1), np.asarray(attlstm_vals).argmax(axis=1))\n",
        "ax4 = sns.heatmap(cf_matrix4/np.sum(cf_matrix4), annot=True,\n",
        "            fmt='.2%', cmap='Blues')\n",
        "ax4.set_title('Attention LSTM Confusion Matrix with labels\\n\\n');\n",
        "ax4.set_xlabel('\\nPredicted sentiment Category')\n",
        "ax4.set_ylabel('Actual sentiment Category ');\n",
        "ax4.xaxis.set_ticklabels(['negative','neutral', 'positive'])\n",
        "ax4.yaxis.set_ticklabels(['negative','neutral', 'positive'])\n",
        "plt.show()"
      ],
      "metadata": {
        "colab": {
          "base_uri": "https://localhost:8080/",
          "height": 337
        },
        "id": "4cd4ztU5R6Ar",
        "outputId": "418db808-0560-4d5a-bffa-278c3edf1518"
      },
      "execution_count": null,
      "outputs": [
        {
          "output_type": "display_data",
          "data": {
            "image/png": "[encoded data removed]",
            "text/plain": [
              "<Figure size 432x288 with 2 Axes>"
            ]
          },
          "metadata": {
            "needs_background": "light"
          }
        }
      ]
    },
    {
      "cell_type": "code",
      "source": [
        "#attention_test\n",
        "cf_matrix4 = confusion_matrix(np.asarray(y_test).argmax(axis=1), np.asarray(att_val_t).argmax(axis=1))\n",
        "ax4 = sns.heatmap(cf_matrix4/np.sum(cf_matrix4), annot=True,\n",
        "            fmt='.2%', cmap='Blues')\n",
        "ax4.set_title('Attention LSTM Confusion Matrix with labels\\n\\n');\n",
        "ax4.set_xlabel('\\nPredicted sentiment Category')\n",
        "ax4.set_ylabel('Actual sentiment Category ');\n",
        "ax4.xaxis.set_ticklabels(['negative','neutral', 'positive'])\n",
        "ax4.yaxis.set_ticklabels(['negative','neutral', 'positive'])\n",
        "plt.show()"
      ],
      "metadata": {
        "colab": {
          "base_uri": "https://localhost:8080/",
          "height": 337
        },
        "id": "EjvIiLEgR6LV",
        "outputId": "998c3c0f-7abe-44e9-eda2-4a31c1d0c5bc"
      },
      "execution_count": null,
      "outputs": [
        {
          "output_type": "display_data",
          "data": {
            "image/png": "[encoded data removed]",
            "text/plain": [
              "<Figure size 432x288 with 2 Axes>"
            ]
          },
          "metadata": {
            "needs_background": "light"
          }
        }
      ]
    },
    {
      "cell_type": "code",
      "source": [
        "#ensemble without attention\n",
        "cf_matrix5 = confusion_matrix(np.asarray(Y).argmax(axis=1), np.asarray(ensb1_vals).argmax(axis=1))\n",
        "ax5 = sns.heatmap(cf_matrix5/np.sum(cf_matrix5), annot=True,\n",
        "            fmt='.2%', cmap='Blues')\n",
        "ax5.set_title('Ensemble without attention LSTM Confusion Matrix with labels\\n\\n');\n",
        "ax5.set_xlabel('\\nPredicted sentiment Category')\n",
        "ax5.set_ylabel('Actual sentiment Category ');\n",
        "ax5.xaxis.set_ticklabels(['negative','neutral', 'positive'])\n",
        "ax5.yaxis.set_ticklabels(['negative','neutral', 'positive'])\n",
        "plt.show()"
      ],
      "metadata": {
        "colab": {
          "base_uri": "https://localhost:8080/",
          "height": 337
        },
        "id": "justIJqaR6WM",
        "outputId": "ee7c2a24-5e14-4e02-a76a-5bc1d55b52fe"
      },
      "execution_count": null,
      "outputs": [
        {
          "output_type": "display_data",
          "data": {
            "image/png": "[encoded data removed]",
            "text/plain": [
              "<Figure size 432x288 with 2 Axes>"
            ]
          },
          "metadata": {
            "needs_background": "light"
          }
        }
      ]
    },
    {
      "cell_type": "code",
      "source": [
        "#ensemble without attention_test\n",
        "cf_matrix5 = confusion_matrix(np.asarray(y_test).argmax(axis=1), np.asarray(pred_final).argmax(axis=1))\n",
        "ax5 = sns.heatmap(cf_matrix5/np.sum(cf_matrix5), annot=True,\n",
        "            fmt='.2%', cmap='Blues')\n",
        "ax5.set_title('Ensemble without attention LSTM Confusion Matrix with labels\\n\\n');\n",
        "ax5.set_xlabel('\\nPredicted sentiment Category')\n",
        "ax5.set_ylabel('Actual sentiment Category ');\n",
        "ax5.xaxis.set_ticklabels(['negative','neutral', 'positive'])\n",
        "ax5.yaxis.set_ticklabels(['negative','neutral', 'positive'])\n",
        "plt.show()"
      ],
      "metadata": {
        "colab": {
          "base_uri": "https://localhost:8080/",
          "height": 337
        },
        "id": "rYhruY4vR6l8",
        "outputId": "3666dc7a-29a4-44cc-adee-cdd1cc7031a9"
      },
      "execution_count": null,
      "outputs": [
        {
          "output_type": "display_data",
          "data": {
            "image/png": "[encoded data removed]",
            "text/plain": [
              "<Figure size 432x288 with 2 Axes>"
            ]
          },
          "metadata": {
            "needs_background": "light"
          }
        }
      ]
    },
    {
      "cell_type": "code",
      "source": [
        "#ensemble with attention\n",
        "cf_matrix6 = confusion_matrix(np.asarray(Y).argmax(axis=1), np.asarray(ensb2_vals).argmax(axis=1))\n",
        "ax6 = sns.heatmap(cf_matrix6/np.sum(cf_matrix6), annot=True,\n",
        "            fmt='.2%', cmap='Blues')\n",
        "ax6.set_title('Ensemble with attention LSTM Confusion Matrix with labels\\n\\n');\n",
        "ax6.set_xlabel('\\nPredicted sentiment Category')\n",
        "ax6.set_ylabel('Actual sentiment Category ');\n",
        "ax6.xaxis.set_ticklabels(['negative','neutral', 'positive'])\n",
        "ax6.yaxis.set_ticklabels(['negative','neutral', 'positive'])\n",
        "plt.show()"
      ],
      "metadata": {
        "colab": {
          "base_uri": "https://localhost:8080/",
          "height": 337
        },
        "id": "xtlkSlq_R6vF",
        "outputId": "bdc96d48-4c41-4faa-c1b7-c9034d1b076c"
      },
      "execution_count": null,
      "outputs": [
        {
          "output_type": "display_data",
          "data": {
            "image/png": "[encoded data removed]",
            "text/plain": [
              "<Figure size 432x288 with 2 Axes>"
            ]
          },
          "metadata": {
            "needs_background": "light"
          }
        }
      ]
    },
    {
      "cell_type": "code",
      "source": [
        "#ensemble with attention_test\n",
        "cf_matrix6 = confusion_matrix(np.asarray(y_test).argmax(axis=1), np.asarray(pred_final2).argmax(axis=1))\n",
        "ax6 = sns.heatmap(cf_matrix6/np.sum(cf_matrix6), annot=True,\n",
        "            fmt='.2%', cmap='Blues')\n",
        "ax6.set_title('Ensemble with attention LSTM Confusion Matrix with labels\\n\\n');\n",
        "ax6.set_xlabel('\\nPredicted sentiment Category')\n",
        "ax6.set_ylabel('Actual sentiment Category ');\n",
        "ax6.xaxis.set_ticklabels(['negative','neutral', 'positive'])\n",
        "ax6.yaxis.set_ticklabels(['negative','neutral', 'positive'])\n",
        "plt.show()"
      ],
      "metadata": {
        "colab": {
          "base_uri": "https://localhost:8080/",
          "height": 337
        },
        "id": "ObfJtoWLR60k",
        "outputId": "4e21dd01-00c5-4a3f-9272-44d856039ba2"
      },
      "execution_count": null,
      "outputs": [
        {
          "output_type": "display_data",
          "data": {
            "image/png": "[encoded data removed]",
            "text/plain": [
              "<Figure size 432x288 with 2 Axes>"
            ]
          },
          "metadata": {
            "needs_background": "light"
          }
        }
      ]
    },
    {
      "cell_type": "code",
      "source": [
        "from sklearn.metrics import precision_score,recall_score,f1_score"
      ],
      "metadata": {
        "id": "FVZoinyoQIZJ"
      },
      "execution_count": null,
      "outputs": []
    },
    {
      "cell_type": "code",
      "source": [
        "#lstm scores\n",
        "print('LSTM Precision: %.3f' % precision_score(Y, lstm_vals,average='micro'))\n",
        "print('LSTM Recall: %.3f' % recall_score(Y, lstm_vals,average='micro'))\n",
        "print('LSTM F1 Score: %.3f' % f1_score(Y, lstm_vals,average='micro'))\n",
        "print('LSTM test Precision: %.3f' % precision_score(y_test, lstm_val_t,average='micro'))\n",
        "print('LSTM test Recall: %.3f' % recall_score(y_test, lstm_val_t,average='micro'))\n",
        "print('LSTM test F1 Score: %.3f' % f1_score(y_test, lstm_val_t,average='micro'))"
      ],
      "metadata": {
        "colab": {
          "base_uri": "https://localhost:8080/"
        },
        "id": "6P9ZCv4GVoOu",
        "outputId": "fa543190-f2cc-4950-a628-da50703a1f68"
      },
      "execution_count": null,
      "outputs": [
        {
          "output_type": "stream",
          "name": "stdout",
          "text": [
            "LSTM Precision: 0.984\n",
            "LSTM Recall: 0.984\n",
            "LSTM F1 Score: 0.984\n",
            "LSTM test Precision: 0.975\n",
            "LSTM test Recall: 0.975\n",
            "LSTM test F1 Score: 0.975\n"
          ]
        }
      ]
    },
    {
      "cell_type": "code",
      "source": [
        "#cnn scores\n",
        "print('CNN Precision: %.3f' % precision_score(Y, cnn_vals,average='micro'))\n",
        "print('CNN Recall: %.3f' % recall_score(Y, cnn_vals,average='micro'))\n",
        "print('CNN F1 Score: %.3f' % f1_score(Y, cnn_vals,average='micro'))\n",
        "print('CNN test Precision: %.3f' % precision_score(y_test, cnn_val_t,average='micro'))\n",
        "print('CNN test Recall: %.3f' % recall_score(y_test, cnn_val_t,average='micro'))\n",
        "print('CNN test F1 Score: %.3f' % f1_score(y_test, cnn_val_t,average='micro'))"
      ],
      "metadata": {
        "colab": {
          "base_uri": "https://localhost:8080/"
        },
        "id": "kx2Qte6UVzf1",
        "outputId": "54b1dd9f-bfb0-4786-d199-a3399853fb1b"
      },
      "execution_count": null,
      "outputs": [
        {
          "output_type": "stream",
          "name": "stdout",
          "text": [
            "CNN Precision: 0.989\n",
            "CNN Recall: 0.989\n",
            "CNN F1 Score: 0.989\n",
            "CNN test Precision: 0.979\n",
            "CNN test Recall: 0.979\n",
            "CNN test F1 Score: 0.979\n"
          ]
        }
      ]
    },
    {
      "cell_type": "code",
      "source": [
        "#gru scores\n",
        "print('GRU Precision: %.3f' % precision_score(Y, gru_vals,average='micro'))\n",
        "print('GRU Recall: %.3f' % recall_score(Y, gru_vals,average='micro'))\n",
        "print('GRU F1 Score: %.3f' % f1_score(Y, gru_vals,average='micro'))\n",
        "print('GRU test Precision: %.3f' % precision_score(y_test, gru_val_t,average='micro'))\n",
        "print('GRU test Recall: %.3f' % recall_score(y_test, gru_val_t,average='micro'))\n",
        "print('GRU test F1 Score: %.3f' % f1_score(y_test, gru_val_t,average='micro'))"
      ],
      "metadata": {
        "colab": {
          "base_uri": "https://localhost:8080/"
        },
        "id": "WLE0ceFwXhtW",
        "outputId": "4d66c5d6-0a09-4c66-cd0f-780bff6b74e5"
      },
      "execution_count": null,
      "outputs": [
        {
          "output_type": "stream",
          "name": "stdout",
          "text": [
            "GRU Precision: 0.988\n",
            "GRU Recall: 0.988\n",
            "GRU F1 Score: 0.988\n",
            "GRU test Precision: 0.979\n",
            "GRU test Recall: 0.979\n",
            "GRU test F1 Score: 0.979\n"
          ]
        }
      ]
    },
    {
      "cell_type": "code",
      "source": [
        "#attention lstm scores\n",
        "print('attention lstm Precision: %.3f' % precision_score(Y, attlstm_vals,average='micro'))\n",
        "print('attention lstm Recall: %.3f' % recall_score(Y, attlstm_vals,average='micro'))\n",
        "print('attention lstm F1 Score: %.3f' % f1_score(Y, attlstm_vals,average='micro'))\n",
        "print('attention lstm test Precision: %.3f' % precision_score(y_test, att_val_t,average='micro'))\n",
        "print('attention lstm test Recall: %.3f' % recall_score(y_test, att_val_t,average='micro'))\n",
        "print('attention lstm test F1 Score: %.3f' % f1_score(y_test, att_val_t,average='micro'))"
      ],
      "metadata": {
        "colab": {
          "base_uri": "https://localhost:8080/"
        },
        "id": "aWe7JgOaYKuU",
        "outputId": "e14868fc-a0ad-4635-8261-e92ac7637e7a"
      },
      "execution_count": null,
      "outputs": [
        {
          "output_type": "stream",
          "name": "stdout",
          "text": [
            "attention lstm Precision: 0.987\n",
            "attention lstm Recall: 0.987\n",
            "attention lstm F1 Score: 0.987\n",
            "attention lstm test Precision: 0.975\n",
            "attention lstm test Recall: 0.975\n",
            "attention lstm test F1 Score: 0.975\n"
          ]
        }
      ]
    },
    {
      "cell_type": "code",
      "source": [
        "#Ensemble without attention lstm scores\n",
        "print('Ensemble without attention lstm lstm Precision: %.3f' % precision_score(Y, ensb1_vals,average='micro'))\n",
        "print('Ensemble without attention lstm lstm Recall: %.3f' % recall_score(Y, ensb1_vals,average='micro'))\n",
        "print('Ensemble without attention lstm lstm F1 Score: %.3f' % f1_score(Y, ensb1_vals,average='micro'))\n",
        "print('Ensemble without attention lstm lstm test Precision: %.3f' % precision_score(y_test, pred_final,average='micro'))\n",
        "print('Ensemble without attention lstm lstm test Recall: %.3f' % recall_score(y_test, pred_final,average='micro'))\n",
        "print('Ensemble without attention lstm lstm test F1 Score: %.3f' % f1_score(y_test, pred_final,average='micro'))"
      ],
      "metadata": {
        "colab": {
          "base_uri": "https://localhost:8080/"
        },
        "id": "xLfHGb7ZYewX",
        "outputId": "98b7e3f3-c33f-4780-b3f6-56651066699b"
      },
      "execution_count": null,
      "outputs": [
        {
          "output_type": "stream",
          "name": "stdout",
          "text": [
            "Ensemble without attention lstm lstm Precision: 0.991\n",
            "Ensemble without attention lstm lstm Recall: 0.991\n",
            "Ensemble without attention lstm lstm F1 Score: 0.991\n",
            "Ensemble without attention lstm lstm test Precision: 0.984\n",
            "Ensemble without attention lstm lstm test Recall: 0.984\n",
            "Ensemble without attention lstm lstm test F1 Score: 0.984\n"
          ]
        }
      ]
    },
    {
      "cell_type": "code",
      "source": [
        "#Ensemble with attention lstm scores\n",
        "print('Ensemble without attention lstm lstm Precision: %.3f' % precision_score(Y, ensb2_vals,average='micro'))\n",
        "print('Ensemble without attention lstm lstm Recall: %.3f' % recall_score(Y, ensb2_vals,average='micro'))\n",
        "print('Ensemble without attention lstm lstm F1 Score: %.3f' % f1_score(Y, ensb2_vals,average='micro'))\n",
        "print('Ensemble without attention lstm lstm test Precision: %.3f' % precision_score(y_test, pred_final2,average='micro'))\n",
        "print('Ensemble without attention lstm lstm test Recall: %.3f' % recall_score(y_test, pred_final2,average='micro'))\n",
        "print('Ensemble without attention lstm lstm test F1 Score: %.3f' % f1_score(y_test, pred_final2,average='micro'))"
      ],
      "metadata": {
        "colab": {
          "base_uri": "https://localhost:8080/"
        },
        "id": "_2EyQyywY0wH",
        "outputId": "5899be74-e867-4050-9298-96ed2a4cdf5f"
      },
      "execution_count": null,
      "outputs": [
        {
          "output_type": "stream",
          "name": "stdout",
          "text": [
            "Ensemble without attention lstm lstm Precision: 0.992\n",
            "Ensemble without attention lstm lstm Recall: 0.992\n",
            "Ensemble without attention lstm lstm F1 Score: 0.992\n",
            "Ensemble without attention lstm lstm test Precision: 0.984\n",
            "Ensemble without attention lstm lstm test Recall: 0.984\n",
            "Ensemble without attention lstm lstm test F1 Score: 0.984\n"
          ]
        }
      ]
    },
    {
      "cell_type": "code",
      "source": [
        "t=140372\n",
        "a=[\n",
        "   [12.75,0.06,0.44],\n",
        "   [0.14,50.43,0.21],\n",
        "   [0.66,0.13,35.19]\n",
        "    ]\n",
        "p_neg=a[0][0]*t/(a[0][0]*t+a[0][1]*t+a[0][2]*t)\n",
        "p_neu=a[1][1]*t/(a[1][0]*t+a[1][1]*t+a[1][2]*t)\n",
        "p_pos=a[2][2]*t/(a[2][0]*t+a[2][1]*t+a[2][2]*t)\n",
        "\n",
        "r_neg=a[0][0]*t/(a[0][0]*t+a[1][0]*t+a[2][0]*t)\n",
        "r_neu=a[1][1]*t/(a[0][1]*t+a[1][1]*t+a[2][1]*t)\n",
        "r_pos=a[2][2]*t/(a[0][2]*t+a[1][2]*t+a[2][2]*t)\n",
        "\n",
        "f1_neg=(2*p_neg*r_neg)/(p_neg+r_neg)\n",
        "f1_neu=(2*p_neu*r_neu)/(p_neu+r_neu)\n",
        "f1_pos=(2*p_pos*r_pos)/(p_pos+r_pos)\n",
        "\n",
        "print(\"--- Negative ---\")\n",
        "print(\"precision: \",p_neg)\n",
        "print(\"recall: \",r_neg)\n",
        "print(\"f1 score: \",f1_neg)\n",
        "print(\"--- Neutral ---\")\n",
        "print(\"precision: \",p_neu)\n",
        "print(\"recall: \",r_neu)\n",
        "print(\"f1 score: \",f1_neu)\n",
        "print(\"--- Positive ---\")\n",
        "print(\"precision: \",p_pos)\n",
        "print(\"recall: \",r_pos)\n",
        "print(\"f1 score: \",f1_pos)"
      ],
      "metadata": {
        "id": "pXC_lt2pY7au"
      },
      "execution_count": null,
      "outputs": []
    }
  ],
  "metadata": {
    "colab": {
      "provenance": [],
      "include_colab_link": true
    },
    "kernelspec": {
      "display_name": "Python 3",
      "name": "python3"
    },
    "language_info": {
      "name": "python"
    },
    "accelerator": "GPU"
  },
  "nbformat": 4,
  "nbformat_minor": 0
}